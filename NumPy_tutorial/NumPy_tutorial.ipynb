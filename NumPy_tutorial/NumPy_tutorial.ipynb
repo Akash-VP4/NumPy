{
 "cells": [
  {
   "cell_type": "markdown",
   "id": "ca6cc622-9189-4d1b-9382-a4f8dce869ae",
   "metadata": {},
   "source": [
    "## 1. Checking NumPy version"
   ]
  },
  {
   "cell_type": "code",
   "execution_count": 3,
   "id": "7aa3b2ff-60c5-4af3-a167-f83ad8735c2a",
   "metadata": {},
   "outputs": [
    {
     "name": "stdout",
     "output_type": "stream",
     "text": [
      "2.1.3\n"
     ]
    }
   ],
   "source": [
    "import numpy as np\n",
    "print(np.__version__)"
   ]
  },
  {
   "cell_type": "markdown",
   "id": "814f00bd-2629-4973-a267-ec1a3b20ecde",
   "metadata": {},
   "source": [
    "## 2. Creating NumPy array "
   ]
  },
  {
   "cell_type": "code",
   "execution_count": 5,
   "id": "25d14eee-cc98-4a34-8fba-c8aa2de4e4c0",
   "metadata": {},
   "outputs": [
    {
     "name": "stdout",
     "output_type": "stream",
     "text": [
      "[1 2 3 4 5]\n",
      "<class 'numpy.ndarray'>\n"
     ]
    }
   ],
   "source": [
    "import numpy as np\n",
    "\n",
    "arr = np.array([1,2,3,4,5])\n",
    "\n",
    "print(arr)\n",
    "\n",
    "print(type(arr))"
   ]
  },
  {
   "cell_type": "markdown",
   "id": "f3e9dbf1-70a6-4bbe-8972-36cde333a957",
   "metadata": {},
   "source": [
    "## 3. Creating 2D array"
   ]
  },
  {
   "cell_type": "code",
   "execution_count": 7,
   "id": "afdc8a4d-5cae-429e-9466-a21097dfab49",
   "metadata": {},
   "outputs": [
    {
     "name": "stdout",
     "output_type": "stream",
     "text": [
      "[[1 2 3]\n",
      " [4 5 6]]\n"
     ]
    }
   ],
   "source": [
    "import numpy as np\n",
    "\n",
    "arr = np.array([[1,2,3],[4,5,6]])\n",
    "\n",
    "print(arr)"
   ]
  },
  {
   "cell_type": "markdown",
   "id": "4e25b242-89ac-4423-87ea-ee6d642fa8fe",
   "metadata": {},
   "source": [
    "## 4. Creating 3D array"
   ]
  },
  {
   "cell_type": "code",
   "execution_count": 10,
   "id": "3fa3dd1c-3b11-4aa7-8aec-c965332fca00",
   "metadata": {},
   "outputs": [
    {
     "name": "stdout",
     "output_type": "stream",
     "text": [
      "[[[1 2 3]\n",
      "  [4 5 6]]\n",
      "\n",
      " [[1 2 3]\n",
      "  [4 5 6]]]\n"
     ]
    }
   ],
   "source": [
    "import numpy as np\n",
    "\n",
    "arr = np.array([[[1,2,3],[4,5,6]],[[1,2,3],[4,5,6]]])\n",
    "\n",
    "print(arr)"
   ]
  },
  {
   "cell_type": "markdown",
   "id": "ac8e7549-7832-4a6d-9114-d9563e4d98ac",
   "metadata": {},
   "source": [
    "## 5. Check number of dimensions"
   ]
  },
  {
   "cell_type": "code",
   "execution_count": 6,
   "id": "a05eb78a-a89e-4604-97c3-31aa0204c445",
   "metadata": {},
   "outputs": [
    {
     "name": "stdout",
     "output_type": "stream",
     "text": [
      "42 dimension: 0\n",
      "--------------\n",
      "[1 2 3 4 5] dimension: 1\n",
      "--------------\n",
      "[[1 2 3 4]\n",
      " [5 6 7 8]] dimension: 2\n",
      "--------------\n",
      "[[[1 2 3]\n",
      "  [4 5 6]]\n",
      "\n",
      " [[1 2 3]\n",
      "  [4 5 6]]] dimension: 3\n"
     ]
    }
   ],
   "source": [
    "import numpy as np\n",
    "\n",
    "a = np.array(42)\n",
    "b = np.array([1,2,3,4,5])\n",
    "c = np.array([[1,2,3,4],[5,6,7,8]])\n",
    "d = np.array([[[1,2,3],[4,5,6]],[[1,2,3],[4,5,6]]])\n",
    "\n",
    "\n",
    "\n",
    "print(a,f\"dimension: {a.ndim}\\n--------------\")\n",
    "print(b,f\"dimension: {b.ndim}\\n--------------\")\n",
    "print(c,f\"dimension: {c.ndim}\\n--------------\")\n",
    "print(d,f\"dimension: {d.ndim}\")\n"
   ]
  },
  {
   "cell_type": "markdown",
   "id": "3a79395a-4636-4ac4-ac64-3f7b7a3e6573",
   "metadata": {},
   "source": [
    "## 6. Higher Dimensional arrays"
   ]
  },
  {
   "cell_type": "code",
   "execution_count": 12,
   "id": "b44f2be6-b3ab-4a50-adc9-453f187eeb45",
   "metadata": {},
   "outputs": [
    {
     "name": "stdout",
     "output_type": "stream",
     "text": [
      "[[[[[1 2 3 4]]]]]\n",
      "Number of dimensions: 5\n"
     ]
    }
   ],
   "source": [
    "import numpy as np\n",
    "\n",
    "arr = np.array([1,2,3,4],ndmin = 5)\n",
    "\n",
    "print(arr)\n",
    "print(f\"Number of dimensions: {arr.ndim}\")"
   ]
  },
  {
   "cell_type": "markdown",
   "id": "af0ae4fd-86f6-4ebc-ab0f-981adcf1e498",
   "metadata": {},
   "source": [
    "## 7. Acess array elements"
   ]
  },
  {
   "cell_type": "code",
   "execution_count": 22,
   "id": "aa626ab1-95b9-4557-ace9-80a29764fb93",
   "metadata": {},
   "outputs": [
    {
     "name": "stdout",
     "output_type": "stream",
     "text": [
      "first elment:  1\n",
      "second element:  2\n"
     ]
    }
   ],
   "source": [
    "import numpy as np\n",
    "\n",
    "arr = np.array([1,2,3,4])\n",
    "\n",
    "print(\"first elment: \",arr[0])\n",
    "\n",
    "print(\"second element: \",arr[1])\n"
   ]
  },
  {
   "cell_type": "markdown",
   "id": "dca285f7-73ee-4cd3-9a0b-47fa71b8e56e",
   "metadata": {},
   "source": [
    "## 8. Access 2D arrays"
   ]
  },
  {
   "cell_type": "code",
   "execution_count": 29,
   "id": "202dcdfe-48c2-426c-baf3-453fbec87032",
   "metadata": {},
   "outputs": [
    {
     "name": "stdout",
     "output_type": "stream",
     "text": [
      "[[ 1  2  3  4  5]\n",
      " [ 6  7  8  9 10]]\n",
      "Second element on 1st row:  2\n",
      "3rd element on 2nd row:  8\n"
     ]
    }
   ],
   "source": [
    "import numpy as np\n",
    "\n",
    "arr = np.array([[1,2,3,4,5],[6,7,8,9,10]])\n",
    "\n",
    "print(arr)\n",
    "\n",
    "print(\"Second element on 1st row: \",arr[0,1])\n",
    "\n",
    "print(\"3rd element on 2nd row: \",arr[1,2])"
   ]
  },
  {
   "cell_type": "markdown",
   "id": "abea49e3-d714-47ba-bbb9-f4cf21ad61da",
   "metadata": {},
   "source": [
    "## 9. Access 3D arrays"
   ]
  },
  {
   "cell_type": "code",
   "execution_count": 38,
   "id": "547fa7ee-365f-4ee5-ab53-073627c20489",
   "metadata": {},
   "outputs": [
    {
     "name": "stdout",
     "output_type": "stream",
     "text": [
      "[[[ 1  2  3]\n",
      "  [ 4  5  6]]\n",
      "\n",
      " [[ 7  8  9]\n",
      "  [10 11 12]]] \n",
      "------------------\n",
      "9\n"
     ]
    }
   ],
   "source": [
    "import numpy as np\n",
    "\n",
    "arr = np.array([[[1,2,3],[4,5,6]],[[7,8,9],[10,11,12]]])\n",
    "\n",
    "print(arr,\"\\n------------------\")\n",
    "print(arr[1,0,2])"
   ]
  },
  {
   "cell_type": "markdown",
   "id": "f29a4b77",
   "metadata": {},
   "source": [
    "## 10. Negative indexing"
   ]
  },
  {
   "cell_type": "code",
   "execution_count": 3,
   "id": "47250aae-5230-43e2-9d64-6eaba546ae06",
   "metadata": {},
   "outputs": [
    {
     "name": "stdout",
     "output_type": "stream",
     "text": [
      "[[1 2 3 4]\n",
      " [5 6 7 8]]\n",
      "--------------------------------\n",
      "second last elment in second row:  7\n"
     ]
    }
   ],
   "source": [
    "import numpy as np\n",
    "\n",
    "arr = np.array([[1,2,3,4],[5,6,7,8]])\n",
    "\n",
    "print(arr,end=\"\\n--------------------------------\\n\")\n",
    "\n",
    "print(\"second last elment in second row: \",arr[1,-2])"
   ]
  },
  {
   "cell_type": "markdown",
   "id": "75a52f75",
   "metadata": {},
   "source": [
    "## 11. NumPy array slicing"
   ]
  },
  {
   "cell_type": "code",
   "execution_count": 6,
   "id": "cec1aac1-6e05-4fee-8272-1cb7d4424083",
   "metadata": {},
   "outputs": [
    {
     "name": "stdout",
     "output_type": "stream",
     "text": [
      "[0 1 2 3 4 5 6 7 8 9]\n",
      "----------------------------------\n",
      " array with element from 2nd to 5th:  [1 2 3 4]\n"
     ]
    }
   ],
   "source": [
    "import numpy as np\n",
    "\n",
    "arr = np.array([i for i in range(10)])\n",
    "\n",
    "print(arr,end=\"\\n----------------------------------\\n\")\n",
    "print(\" array with element from 2nd to 5th: \",arr[1:5])"
   ]
  },
  {
   "cell_type": "code",
   "execution_count": null,
   "id": "f847811b-a443-4498-bf4e-6d9e852da247",
   "metadata": {},
   "outputs": [
    {
     "name": "stdout",
     "output_type": "stream",
     "text": [
      "actual array:  [0 1 2 3 4 5 6 7 8 9]\n",
      "Element from 4th : [3 4 5 6 7 8 9]\n"
     ]
    }
   ],
   "source": [
    "import numpy as np\n",
    "\n",
    "arr = np.array([i for i in range(10)])\n",
    "\n",
    "print(\"actual array: \",arr)\n",
    "\n",
    "print(\"Element from 4th :\",arr[3:]) "
   ]
  },
  {
   "cell_type": "code",
   "execution_count": 13,
   "id": "3eb679dd-6a60-492f-be5d-5c59a2071835",
   "metadata": {},
   "outputs": [
    {
     "name": "stdout",
     "output_type": "stream",
     "text": [
      "Actual array:  [0 1 2 3 4 5 6 7 8 9]\n",
      "Element upto 4:  [0 1 2 3 4]\n"
     ]
    }
   ],
   "source": [
    "import numpy as np\n",
    "\n",
    "arr = np.array([i for i in range(10)])\n",
    "\n",
    "print(\"Actual array: \",arr)\n",
    "print(\"Element upto 4: \",arr[:5])"
   ]
  },
  {
   "cell_type": "code",
   "execution_count": 17,
   "id": "854bd062-96d7-446c-a0e2-67be2744b307",
   "metadata": {},
   "outputs": [
    {
     "name": "stdout",
     "output_type": "stream",
     "text": [
      "Actual array:  [0 1 2 3 4 5 6 7 8 9]\n",
      "Element from 7th to 9th:  [6 7 8]\n"
     ]
    }
   ],
   "source": [
    "#negative slicing\n",
    "\n",
    "import numpy as np\n",
    "\n",
    "arr = np.array([i for i in range(10)])\n",
    "\n",
    "print(\"Actual array: \",arr)\n",
    "\n",
    "print(\"Element from 7th to 9th: \",arr[-4:-1])  #negative index start from -1"
   ]
  },
  {
   "cell_type": "markdown",
   "id": "94088084",
   "metadata": {},
   "source": [
    "## 12. 2D array slicing"
   ]
  },
  {
   "cell_type": "code",
   "execution_count": 20,
   "id": "40d30cbf-b287-419a-a111-e22ccbbe7b18",
   "metadata": {},
   "outputs": [
    {
     "name": "stdout",
     "output_type": "stream",
     "text": [
      "Actual array:\n",
      " [[1 2 3]\n",
      " [4 5 6]]\n",
      "--------------------------\n",
      "element from 5 to 6 (2nd row last two): [5 6]\n"
     ]
    }
   ],
   "source": [
    "import numpy as np\n",
    "\n",
    "arr = np.array([[1,2,3],[4,5,6]])\n",
    "\n",
    "print(f\"Actual array:\\n {arr}\",end=\"\\n--------------------------\\n\")\n",
    "print(f\"element from 5 to 6 (2nd row last two): {arr[1,1:]}\")"
   ]
  },
  {
   "cell_type": "code",
   "execution_count": 25,
   "id": "c9d7c86a-f845-4ccc-b315-fb3fec2a35b1",
   "metadata": {},
   "outputs": [
    {
     "name": "stdout",
     "output_type": "stream",
     "text": [
      "Actual array: \n",
      " [[1 2 3 4]\n",
      " [5 6 7 8]]\n",
      "second element in both the row: [2 6]\n"
     ]
    }
   ],
   "source": [
    "import numpy as np\n",
    "\n",
    "arr = np.array([[1,2,3,4],[5,6,7,8]])\n",
    "\n",
    "print(f\"Actual array: \\n {arr}\")\n",
    "print(f\"second element in both the row: {arr[0:2,1]}\")\n",
    "\n"
   ]
  },
  {
   "cell_type": "code",
   "execution_count": 30,
   "id": "c1939cbf-7e54-42ab-abd8-2ddcdb2ea6ae",
   "metadata": {},
   "outputs": [
    {
     "name": "stdout",
     "output_type": "stream",
     "text": [
      "Actual array:\n",
      " [[ 1  2  3  4  5]\n",
      " [ 6  7  8  9 10]]\n",
      " 2nd to 4th element in both the row:\n",
      " [[2 3 4]\n",
      " [7 8 9]]\n"
     ]
    }
   ],
   "source": [
    "import numpy as np\n",
    "\n",
    "arr = np.array([[1,2,3,4,5],[6,7,8,9,10]])\n",
    "\n",
    "print(f\"Actual array:\\n {arr}\")\n",
    "\n",
    "print(f\" 2nd to 4th element in both the row:\\n {arr[0:2,1:4]}\")"
   ]
  },
  {
   "cell_type": "markdown",
   "id": "c14bcd79",
   "metadata": {},
   "source": [
    "## -> np Array  vs list : time comparision"
   ]
  },
  {
   "cell_type": "code",
   "execution_count": 38,
   "id": "d4d22a1b-3454-492f-80bd-7f6bc9a81d1d",
   "metadata": {},
   "outputs": [
    {
     "name": "stdout",
     "output_type": "stream",
     "text": [
      "4.4173829555511475\n"
     ]
    }
   ],
   "source": [
    "import time\n",
    "\n",
    "start = time.time()\n",
    "\n",
    "a = [i for i in range(10000000)]\n",
    "b = [i for i in range(1000000,200000000)]\n",
    "\n",
    "print(time.time() - start)"
   ]
  },
  {
   "cell_type": "code",
   "execution_count": 39,
   "id": "122d5161-8419-4e3a-a946-e13ce2876ecd",
   "metadata": {},
   "outputs": [
    {
     "name": "stdout",
     "output_type": "stream",
     "text": [
      "2.113945245742798\n"
     ]
    }
   ],
   "source": [
    "\n",
    "start = time.time()\n",
    "\n",
    "a = np.arange(10000000)\n",
    "b = np.arange(1000000,200000000)\n",
    "\n",
    "print(time.time() - start)"
   ]
  },
  {
   "cell_type": "markdown",
   "id": "dfc99dbb",
   "metadata": {},
   "source": [
    "## 13. Data types in numpy"
   ]
  },
  {
   "cell_type": "code",
   "execution_count": 5,
   "id": "a3bdda58-eaa0-42e8-98fa-cb398872677c",
   "metadata": {},
   "outputs": [
    {
     "name": "stdout",
     "output_type": "stream",
     "text": [
      "data type of [1 2 3 4]:  int64\n",
      "data type of ['kannur' 'kozikode' 'malapuram'] : <U9\n"
     ]
    }
   ],
   "source": [
    "import numpy as np\n",
    "\n",
    "arr = np.array([1,2,3,4])\n",
    "print(f\"data type of {arr}: \",arr.dtype)\n",
    "\n",
    "arr = np.array([\"kannur\",\"kozikode\",\"malapuram\"])\n",
    "print(f\"data type of {arr} : {arr.dtype}\")"
   ]
  },
  {
   "cell_type": "markdown",
   "id": "359d5324",
   "metadata": {},
   "source": [
    "## 14. Creating array with defined data type"
   ]
  },
  {
   "cell_type": "code",
   "execution_count": 6,
   "id": "09b47c8b-516f-47b9-8cc4-c933db7ae40e",
   "metadata": {},
   "outputs": [
    {
     "name": "stdout",
     "output_type": "stream",
     "text": [
      "array [b'1' b'2' b'3']: data type :|S1\n"
     ]
    }
   ],
   "source": [
    "import numpy as np\n",
    "arr = np.array([1,2,3],dtype='S')\n",
    "\n",
    "print(f\"array {arr}: data type :{arr.dtype}\")"
   ]
  },
  {
   "cell_type": "code",
   "execution_count": 35,
   "id": "39f53837-9d9e-40fe-8b95-47be144ed278",
   "metadata": {},
   "outputs": [
    {
     "name": "stdout",
     "output_type": "stream",
     "text": [
      "integer array: [0 1 2 3 4 5] : data type: int32\n",
      "------------------------------------\n",
      "\n",
      "boolean array: [False  True  True  True  True  True] : data type: bool\n",
      "------------------------------------\n",
      "\n",
      "unsigned integer is not possible on array [False  True  True  True  True  True]\n",
      "------------------------------------\n",
      "\n",
      "float array: [0. 1. 2. 3. 4. 5.] : data type: float32\n",
      "------------------------------------\n",
      "\n",
      "complex float array: [b'0' b'1' b'2' b'3' b'4' b'5'] : data type: |S1\n",
      "------------------------------------\n",
      "\n",
      "timedelta array: [0 1 2 3 4 5] : data type: timedelta64\n",
      "------------------------------------\n",
      "\n",
      "date time is not possible on array [0 1 2 3 4 5]\n",
      "------------------------------------\n",
      "\n",
      "Object array: [0 1 2 3 4 5] : data type: object\n",
      "------------------------------------\n",
      "\n",
      "string array: [b'0' b'1' b'2' b'3' b'4' b'5'] : data type: |S1\n",
      "------------------------------------\n",
      "\n",
      "unicode string array: ['0' '1' '2' '3' '4' '5'] : data type: <U1\n",
      "------------------------------------\n",
      "\n",
      "fixed chunck of memory for other type(void) is not possible on array ['0' '1' '2' '3' '4' '5']\n",
      "------------------------------------\n",
      "\n"
     ]
    }
   ],
   "source": [
    "import numpy as np\n",
    "\n",
    "dtype_list = {'integer':'i','boolean':'?','unsigned integer':'u','float':'f','complex float':'c','timedelta':'m','date time':'M','Object':'O','string':'S','unicode string':'U','fixed chunck of memory for other type(void)':'V'}\n",
    "\n",
    "\n",
    "\n",
    "for datatype,character in dtype_list.items():\n",
    "  try:\n",
    "    arr = np.array([0,1,2,3,4,5],dtype=character)\n",
    "    print(f\"{datatype} array: {arr} : data type: {arr.dtype}\",end=\"\\n------------------------------------\\n\\n\")\n",
    "  except:\n",
    "    print(f\"{datatype} is not possible on array {arr}\",end=\"\\n------------------------------------\\n\\n\")\n",
    "  "
   ]
  },
  {
   "cell_type": "code",
   "execution_count": 37,
   "id": "47938098-b046-4152-b8d2-2312748f89f4",
   "metadata": {},
   "outputs": [
    {
     "name": "stdout",
     "output_type": "stream",
     "text": [
      "[1 2 3]\n"
     ]
    }
   ],
   "source": [
    "import numpy as np\n",
    "\n",
    "arr = np.array([1.1,2.1,3.1],dtype='i')\n",
    "\n",
    "print(arr)"
   ]
  },
  {
   "cell_type": "code",
   "execution_count": 40,
   "id": "d8709b8d",
   "metadata": {},
   "outputs": [
    {
     "name": "stdout",
     "output_type": "stream",
     "text": [
      "[b'ap' b'ba' b'ch']\n"
     ]
    }
   ],
   "source": [
    "#Fixed length\n",
    "\n",
    "import numpy as np\n",
    "\n",
    "arr = np.array(['apple','banana','cherry'],dtype='S2')\n",
    "\n",
    "print(arr)"
   ]
  },
  {
   "cell_type": "markdown",
   "id": "2f19048c",
   "metadata": {},
   "source": [
    "## 15. Converting datatype"
   ]
  },
  {
   "cell_type": "code",
   "execution_count": 51,
   "id": "715de885",
   "metadata": {},
   "outputs": [
    {
     "name": "stdout",
     "output_type": "stream",
     "text": [
      "old array: [1.1 2.1 3.2], new arr: [1 2 3]\n",
      "--------------------------------------------\n",
      "converting to boolean:\n",
      " array: [1.1 2.1 3.2] : new array: [ True  True  True]\n"
     ]
    }
   ],
   "source": [
    "import numpy as np\n",
    "\n",
    "arr = np.array([1.1,2.1,3.2])\n",
    "\n",
    "newarr = arr.astype('i')\n",
    "\n",
    "print(f\"old array: {arr}, new arr: {newarr}\")\n",
    "\n",
    "print(\"--------------------------------------------\")\n",
    "\n",
    "print(f\"converting to boolean:\\n array: {arr} : new array: {arr.astype('?')}\")"
   ]
  },
  {
   "cell_type": "markdown",
   "id": "b3cb2d35",
   "metadata": {},
   "source": [
    "## 16. Numpy array copy"
   ]
  },
  {
   "cell_type": "code",
   "execution_count": 53,
   "id": "14f590be",
   "metadata": {},
   "outputs": [
    {
     "name": "stdout",
     "output_type": "stream",
     "text": [
      "Old array: [1 2 3], new array: [1 2 3]\n",
      "Old array: [1 2 1], new array: [1 2 3]\n"
     ]
    }
   ],
   "source": [
    "import numpy as np\n",
    "\n",
    "arr = np.array([1,2,3])\n",
    "new_arr = arr.copy()\n",
    "\n",
    "print(f\"Old array: {arr}, new array: {new_arr}\")\n",
    "\n",
    "arr[2] = 1\n",
    "\n",
    "print(f\"Old array: {arr}, new array: {new_arr}\")"
   ]
  },
  {
   "cell_type": "markdown",
   "id": "b9e2cc42",
   "metadata": {},
   "source": [
    "## 17. Numpy array view"
   ]
  },
  {
   "cell_type": "code",
   "execution_count": 55,
   "id": "69e77933",
   "metadata": {},
   "outputs": [
    {
     "name": "stdout",
     "output_type": "stream",
     "text": [
      "Old array: [1 2 3 4], new array: [1 2 3 4]\n",
      "Old array: [ 1  2 10  4], new array: [ 1  2 10  4]\n"
     ]
    }
   ],
   "source": [
    "import numpy as np\n",
    "\n",
    "arr = np.array([1,2,3,4])\n",
    "new_arr = arr.view()\n",
    "\n",
    "\n",
    "print(f\"Old array: {arr}, new array: {new_arr}\")\n",
    "\n",
    "arr[2] = 10\n",
    "\n",
    "\n",
    "print(f\"Old array: {arr}, new array: {new_arr}\")"
   ]
  },
  {
   "cell_type": "code",
   "execution_count": null,
   "id": "9d157d1d",
   "metadata": {},
   "outputs": [
    {
     "data": {
      "text/plain": [
       "array([ 1,  2, 10,  4])"
      ]
     },
     "execution_count": 56,
     "metadata": {},
     "output_type": "execute_result"
    }
   ],
   "source": []
  },
  {
   "cell_type": "code",
   "execution_count": null,
   "id": "be4ceaad",
   "metadata": {},
   "outputs": [],
   "source": []
  }
 ],
 "metadata": {
  "kernelspec": {
   "display_name": "base",
   "language": "python",
   "name": "python3"
  },
  "language_info": {
   "codemirror_mode": {
    "name": "ipython",
    "version": 3
   },
   "file_extension": ".py",
   "mimetype": "text/x-python",
   "name": "python",
   "nbconvert_exporter": "python",
   "pygments_lexer": "ipython3",
   "version": "3.13.5"
  }
 },
 "nbformat": 4,
 "nbformat_minor": 5
}
