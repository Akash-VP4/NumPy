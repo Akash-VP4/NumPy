{
 "cells": [
  {
   "cell_type": "markdown",
   "id": "ca6cc622-9189-4d1b-9382-a4f8dce869ae",
   "metadata": {},
   "source": [
    "## 1. Checking NumPy version"
   ]
  },
  {
   "cell_type": "code",
   "execution_count": 3,
   "id": "7aa3b2ff-60c5-4af3-a167-f83ad8735c2a",
   "metadata": {},
   "outputs": [
    {
     "name": "stdout",
     "output_type": "stream",
     "text": [
      "2.1.3\n"
     ]
    }
   ],
   "source": [
    "import numpy as np\n",
    "print(np.__version__)"
   ]
  },
  {
   "cell_type": "markdown",
   "id": "814f00bd-2629-4973-a267-ec1a3b20ecde",
   "metadata": {},
   "source": [
    "## 2. Creating NumPy array "
   ]
  },
  {
   "cell_type": "code",
   "execution_count": 5,
   "id": "25d14eee-cc98-4a34-8fba-c8aa2de4e4c0",
   "metadata": {},
   "outputs": [
    {
     "name": "stdout",
     "output_type": "stream",
     "text": [
      "[1 2 3 4 5]\n",
      "<class 'numpy.ndarray'>\n"
     ]
    }
   ],
   "source": [
    "import numpy as np\n",
    "\n",
    "arr = np.array([1,2,3,4,5])\n",
    "\n",
    "print(arr)\n",
    "\n",
    "print(type(arr))"
   ]
  },
  {
   "cell_type": "markdown",
   "id": "f3e9dbf1-70a6-4bbe-8972-36cde333a957",
   "metadata": {},
   "source": [
    "## 3. Creating 2D array"
   ]
  },
  {
   "cell_type": "code",
   "execution_count": 7,
   "id": "afdc8a4d-5cae-429e-9466-a21097dfab49",
   "metadata": {},
   "outputs": [
    {
     "name": "stdout",
     "output_type": "stream",
     "text": [
      "[[1 2 3]\n",
      " [4 5 6]]\n"
     ]
    }
   ],
   "source": [
    "import numpy as np\n",
    "\n",
    "arr = np.array([[1,2,3],[4,5,6]])\n",
    "\n",
    "print(arr)"
   ]
  },
  {
   "cell_type": "markdown",
   "id": "4e25b242-89ac-4423-87ea-ee6d642fa8fe",
   "metadata": {},
   "source": [
    "## 4. Creating 3D array"
   ]
  },
  {
   "cell_type": "code",
   "execution_count": 10,
   "id": "3fa3dd1c-3b11-4aa7-8aec-c965332fca00",
   "metadata": {},
   "outputs": [
    {
     "name": "stdout",
     "output_type": "stream",
     "text": [
      "[[[1 2 3]\n",
      "  [4 5 6]]\n",
      "\n",
      " [[1 2 3]\n",
      "  [4 5 6]]]\n"
     ]
    }
   ],
   "source": [
    "import numpy as np\n",
    "\n",
    "arr = np.array([[[1,2,3],[4,5,6]],[[1,2,3],[4,5,6]]])\n",
    "\n",
    "print(arr)"
   ]
  },
  {
   "cell_type": "markdown",
   "id": "ac8e7549-7832-4a6d-9114-d9563e4d98ac",
   "metadata": {},
   "source": [
    "## 5. Check number of dimensions"
   ]
  },
  {
   "cell_type": "code",
   "execution_count": 6,
   "id": "a05eb78a-a89e-4604-97c3-31aa0204c445",
   "metadata": {},
   "outputs": [
    {
     "name": "stdout",
     "output_type": "stream",
     "text": [
      "42 dimension: 0\n",
      "--------------\n",
      "[1 2 3 4 5] dimension: 1\n",
      "--------------\n",
      "[[1 2 3 4]\n",
      " [5 6 7 8]] dimension: 2\n",
      "--------------\n",
      "[[[1 2 3]\n",
      "  [4 5 6]]\n",
      "\n",
      " [[1 2 3]\n",
      "  [4 5 6]]] dimension: 3\n"
     ]
    }
   ],
   "source": [
    "import numpy as np\n",
    "\n",
    "a = np.array(42)\n",
    "b = np.array([1,2,3,4,5])\n",
    "c = np.array([[1,2,3,4],[5,6,7,8]])\n",
    "d = np.array([[[1,2,3],[4,5,6]],[[1,2,3],[4,5,6]]])\n",
    "\n",
    "\n",
    "\n",
    "print(a,f\"dimension: {a.ndim}\\n--------------\")\n",
    "print(b,f\"dimension: {b.ndim}\\n--------------\")\n",
    "print(c,f\"dimension: {c.ndim}\\n--------------\")\n",
    "print(d,f\"dimension: {d.ndim}\")\n"
   ]
  },
  {
   "cell_type": "markdown",
   "id": "3a79395a-4636-4ac4-ac64-3f7b7a3e6573",
   "metadata": {},
   "source": [
    "## 6. Higher Dimensional arrays"
   ]
  },
  {
   "cell_type": "code",
   "execution_count": 12,
   "id": "b44f2be6-b3ab-4a50-adc9-453f187eeb45",
   "metadata": {},
   "outputs": [
    {
     "name": "stdout",
     "output_type": "stream",
     "text": [
      "[[[[[1 2 3 4]]]]]\n",
      "Number of dimensions: 5\n"
     ]
    }
   ],
   "source": [
    "import numpy as np\n",
    "\n",
    "arr = np.array([1,2,3,4],ndmin = 5)\n",
    "\n",
    "print(arr)\n",
    "print(f\"Number of dimensions: {arr.ndim}\")"
   ]
  },
  {
   "cell_type": "markdown",
   "id": "af0ae4fd-86f6-4ebc-ab0f-981adcf1e498",
   "metadata": {},
   "source": [
    "## 7. Acess array elements"
   ]
  },
  {
   "cell_type": "code",
   "execution_count": 22,
   "id": "aa626ab1-95b9-4557-ace9-80a29764fb93",
   "metadata": {},
   "outputs": [
    {
     "name": "stdout",
     "output_type": "stream",
     "text": [
      "first elment:  1\n",
      "second element:  2\n"
     ]
    }
   ],
   "source": [
    "import numpy as np\n",
    "\n",
    "arr = np.array([1,2,3,4])\n",
    "\n",
    "print(\"first elment: \",arr[0])\n",
    "\n",
    "print(\"second element: \",arr[1])\n"
   ]
  },
  {
   "cell_type": "markdown",
   "id": "dca285f7-73ee-4cd3-9a0b-47fa71b8e56e",
   "metadata": {},
   "source": [
    "## 8. Access 2D arrays"
   ]
  },
  {
   "cell_type": "code",
   "execution_count": 29,
   "id": "202dcdfe-48c2-426c-baf3-453fbec87032",
   "metadata": {},
   "outputs": [
    {
     "name": "stdout",
     "output_type": "stream",
     "text": [
      "[[ 1  2  3  4  5]\n",
      " [ 6  7  8  9 10]]\n",
      "Second element on 1st row:  2\n",
      "3rd element on 2nd row:  8\n"
     ]
    }
   ],
   "source": [
    "import numpy as np\n",
    "\n",
    "arr = np.array([[1,2,3,4,5],[6,7,8,9,10]])\n",
    "\n",
    "print(arr)\n",
    "\n",
    "print(\"Second element on 1st row: \",arr[0,1])\n",
    "\n",
    "print(\"3rd element on 2nd row: \",arr[1,2])"
   ]
  },
  {
   "cell_type": "markdown",
   "id": "abea49e3-d714-47ba-bbb9-f4cf21ad61da",
   "metadata": {},
   "source": [
    "## 9. Access 3D arrays"
   ]
  },
  {
   "cell_type": "code",
   "execution_count": 38,
   "id": "547fa7ee-365f-4ee5-ab53-073627c20489",
   "metadata": {},
   "outputs": [
    {
     "name": "stdout",
     "output_type": "stream",
     "text": [
      "[[[ 1  2  3]\n",
      "  [ 4  5  6]]\n",
      "\n",
      " [[ 7  8  9]\n",
      "  [10 11 12]]] \n",
      "------------------\n",
      "9\n"
     ]
    }
   ],
   "source": [
    "import numpy as np\n",
    "\n",
    "arr = np.array([[[1,2,3],[4,5,6]],[[7,8,9],[10,11,12]]])\n",
    "\n",
    "print(arr,\"\\n------------------\")\n",
    "print(arr[1,0,2])"
   ]
  },
  {
   "cell_type": "markdown",
   "id": "f29a4b77",
   "metadata": {},
   "source": [
    "## 10. Negative indexing"
   ]
  },
  {
   "cell_type": "code",
   "execution_count": 3,
   "id": "47250aae-5230-43e2-9d64-6eaba546ae06",
   "metadata": {},
   "outputs": [
    {
     "name": "stdout",
     "output_type": "stream",
     "text": [
      "[[1 2 3 4]\n",
      " [5 6 7 8]]\n",
      "--------------------------------\n",
      "second last elment in second row:  7\n"
     ]
    }
   ],
   "source": [
    "import numpy as np\n",
    "\n",
    "arr = np.array([[1,2,3,4],[5,6,7,8]])\n",
    "\n",
    "print(arr,end=\"\\n--------------------------------\\n\")\n",
    "\n",
    "print(\"second last elment in second row: \",arr[1,-2])"
   ]
  },
  {
   "cell_type": "markdown",
   "id": "75a52f75",
   "metadata": {},
   "source": [
    "## 11. NumPy array slicing"
   ]
  },
  {
   "cell_type": "code",
   "execution_count": 6,
   "id": "cec1aac1-6e05-4fee-8272-1cb7d4424083",
   "metadata": {},
   "outputs": [
    {
     "name": "stdout",
     "output_type": "stream",
     "text": [
      "[0 1 2 3 4 5 6 7 8 9]\n",
      "----------------------------------\n",
      " array with element from 2nd to 5th:  [1 2 3 4]\n"
     ]
    }
   ],
   "source": [
    "import numpy as np\n",
    "\n",
    "arr = np.array([i for i in range(10)])\n",
    "\n",
    "print(arr,end=\"\\n----------------------------------\\n\")\n",
    "print(\" array with element from 2nd to 5th: \",arr[1:5])"
   ]
  },
  {
   "cell_type": "code",
   "execution_count": null,
   "id": "f847811b-a443-4498-bf4e-6d9e852da247",
   "metadata": {},
   "outputs": [
    {
     "name": "stdout",
     "output_type": "stream",
     "text": [
      "actual array:  [0 1 2 3 4 5 6 7 8 9]\n",
      "Element from 4th : [3 4 5 6 7 8 9]\n"
     ]
    }
   ],
   "source": [
    "import numpy as np\n",
    "\n",
    "arr = np.array([i for i in range(10)])\n",
    "\n",
    "print(\"actual array: \",arr)\n",
    "\n",
    "print(\"Element from 4th :\",arr[3:]) "
   ]
  },
  {
   "cell_type": "code",
   "execution_count": 13,
   "id": "3eb679dd-6a60-492f-be5d-5c59a2071835",
   "metadata": {},
   "outputs": [
    {
     "name": "stdout",
     "output_type": "stream",
     "text": [
      "Actual array:  [0 1 2 3 4 5 6 7 8 9]\n",
      "Element upto 4:  [0 1 2 3 4]\n"
     ]
    }
   ],
   "source": [
    "import numpy as np\n",
    "\n",
    "arr = np.array([i for i in range(10)])\n",
    "\n",
    "print(\"Actual array: \",arr)\n",
    "print(\"Element upto 4: \",arr[:5])"
   ]
  },
  {
   "cell_type": "code",
   "execution_count": 17,
   "id": "854bd062-96d7-446c-a0e2-67be2744b307",
   "metadata": {},
   "outputs": [
    {
     "name": "stdout",
     "output_type": "stream",
     "text": [
      "Actual array:  [0 1 2 3 4 5 6 7 8 9]\n",
      "Element from 7th to 9th:  [6 7 8]\n"
     ]
    }
   ],
   "source": [
    "#negative slicing\n",
    "\n",
    "import numpy as np\n",
    "\n",
    "arr = np.array([i for i in range(10)])\n",
    "\n",
    "print(\"Actual array: \",arr)\n",
    "\n",
    "print(\"Element from 7th to 9th: \",arr[-4:-1])  #negative index start from -1"
   ]
  },
  {
   "cell_type": "markdown",
   "id": "94088084",
   "metadata": {},
   "source": [
    "## 12. 2D array slicing"
   ]
  },
  {
   "cell_type": "code",
   "execution_count": 20,
   "id": "40d30cbf-b287-419a-a111-e22ccbbe7b18",
   "metadata": {},
   "outputs": [
    {
     "name": "stdout",
     "output_type": "stream",
     "text": [
      "Actual array:\n",
      " [[1 2 3]\n",
      " [4 5 6]]\n",
      "--------------------------\n",
      "element from 5 to 6 (2nd row last two): [5 6]\n"
     ]
    }
   ],
   "source": [
    "import numpy as np\n",
    "\n",
    "arr = np.array([[1,2,3],[4,5,6]])\n",
    "\n",
    "print(f\"Actual array:\\n {arr}\",end=\"\\n--------------------------\\n\")\n",
    "print(f\"element from 5 to 6 (2nd row last two): {arr[1,1:]}\")"
   ]
  },
  {
   "cell_type": "code",
   "execution_count": 25,
   "id": "c9d7c86a-f845-4ccc-b315-fb3fec2a35b1",
   "metadata": {},
   "outputs": [
    {
     "name": "stdout",
     "output_type": "stream",
     "text": [
      "Actual array: \n",
      " [[1 2 3 4]\n",
      " [5 6 7 8]]\n",
      "second element in both the row: [2 6]\n"
     ]
    }
   ],
   "source": [
    "import numpy as np\n",
    "\n",
    "arr = np.array([[1,2,3,4],[5,6,7,8]])\n",
    "\n",
    "print(f\"Actual array: \\n {arr}\")\n",
    "print(f\"second element in both the row: {arr[0:2,1]}\")\n",
    "\n"
   ]
  },
  {
   "cell_type": "code",
   "execution_count": 30,
   "id": "c1939cbf-7e54-42ab-abd8-2ddcdb2ea6ae",
   "metadata": {},
   "outputs": [
    {
     "name": "stdout",
     "output_type": "stream",
     "text": [
      "Actual array:\n",
      " [[ 1  2  3  4  5]\n",
      " [ 6  7  8  9 10]]\n",
      " 2nd to 4th element in both the row:\n",
      " [[2 3 4]\n",
      " [7 8 9]]\n"
     ]
    }
   ],
   "source": [
    "import numpy as np\n",
    "\n",
    "arr = np.array([[1,2,3,4,5],[6,7,8,9,10]])\n",
    "\n",
    "print(f\"Actual array:\\n {arr}\")\n",
    "\n",
    "print(f\" 2nd to 4th element in both the row:\\n {arr[0:2,1:4]}\")"
   ]
  },
  {
   "cell_type": "markdown",
   "id": "c14bcd79",
   "metadata": {},
   "source": [
    "#### -> np Array  vs list : time comparision"
   ]
  },
  {
   "cell_type": "code",
   "execution_count": 38,
   "id": "d4d22a1b-3454-492f-80bd-7f6bc9a81d1d",
   "metadata": {},
   "outputs": [
    {
     "name": "stdout",
     "output_type": "stream",
     "text": [
      "4.4173829555511475\n"
     ]
    }
   ],
   "source": [
    "import time\n",
    "\n",
    "start = time.time()\n",
    "\n",
    "a = [i for i in range(10000000)]\n",
    "b = [i for i in range(1000000,200000000)]\n",
    "\n",
    "print(time.time() - start)"
   ]
  },
  {
   "cell_type": "code",
   "execution_count": 39,
   "id": "122d5161-8419-4e3a-a946-e13ce2876ecd",
   "metadata": {},
   "outputs": [
    {
     "name": "stdout",
     "output_type": "stream",
     "text": [
      "2.113945245742798\n"
     ]
    }
   ],
   "source": [
    "\n",
    "start = time.time()\n",
    "\n",
    "a = np.arange(10000000)\n",
    "b = np.arange(1000000,200000000)\n",
    "\n",
    "print(time.time() - start)"
   ]
  },
  {
   "cell_type": "markdown",
   "id": "dfc99dbb",
   "metadata": {},
   "source": [
    "## 13. Data types in numpy"
   ]
  },
  {
   "cell_type": "code",
   "execution_count": 5,
   "id": "a3bdda58-eaa0-42e8-98fa-cb398872677c",
   "metadata": {},
   "outputs": [
    {
     "name": "stdout",
     "output_type": "stream",
     "text": [
      "data type of [1 2 3 4]:  int64\n",
      "data type of ['kannur' 'kozikode' 'malapuram'] : <U9\n"
     ]
    }
   ],
   "source": [
    "import numpy as np\n",
    "\n",
    "arr = np.array([1,2,3,4])\n",
    "print(f\"data type of {arr}: \",arr.dtype)\n",
    "\n",
    "arr = np.array([\"kannur\",\"kozikode\",\"malapuram\"])\n",
    "print(f\"data type of {arr} : {arr.dtype}\")"
   ]
  },
  {
   "cell_type": "markdown",
   "id": "359d5324",
   "metadata": {},
   "source": [
    "## 14. Creating array with defined data type"
   ]
  },
  {
   "cell_type": "code",
   "execution_count": 6,
   "id": "09b47c8b-516f-47b9-8cc4-c933db7ae40e",
   "metadata": {},
   "outputs": [
    {
     "name": "stdout",
     "output_type": "stream",
     "text": [
      "array [b'1' b'2' b'3']: data type :|S1\n"
     ]
    }
   ],
   "source": [
    "import numpy as np\n",
    "arr = np.array([1,2,3],dtype='S')\n",
    "\n",
    "print(f\"array {arr}: data type :{arr.dtype}\")"
   ]
  },
  {
   "cell_type": "code",
   "execution_count": 35,
   "id": "39f53837-9d9e-40fe-8b95-47be144ed278",
   "metadata": {},
   "outputs": [
    {
     "name": "stdout",
     "output_type": "stream",
     "text": [
      "integer array: [0 1 2 3 4 5] : data type: int32\n",
      "------------------------------------\n",
      "\n",
      "boolean array: [False  True  True  True  True  True] : data type: bool\n",
      "------------------------------------\n",
      "\n",
      "unsigned integer is not possible on array [False  True  True  True  True  True]\n",
      "------------------------------------\n",
      "\n",
      "float array: [0. 1. 2. 3. 4. 5.] : data type: float32\n",
      "------------------------------------\n",
      "\n",
      "complex float array: [b'0' b'1' b'2' b'3' b'4' b'5'] : data type: |S1\n",
      "------------------------------------\n",
      "\n",
      "timedelta array: [0 1 2 3 4 5] : data type: timedelta64\n",
      "------------------------------------\n",
      "\n",
      "date time is not possible on array [0 1 2 3 4 5]\n",
      "------------------------------------\n",
      "\n",
      "Object array: [0 1 2 3 4 5] : data type: object\n",
      "------------------------------------\n",
      "\n",
      "string array: [b'0' b'1' b'2' b'3' b'4' b'5'] : data type: |S1\n",
      "------------------------------------\n",
      "\n",
      "unicode string array: ['0' '1' '2' '3' '4' '5'] : data type: <U1\n",
      "------------------------------------\n",
      "\n",
      "fixed chunck of memory for other type(void) is not possible on array ['0' '1' '2' '3' '4' '5']\n",
      "------------------------------------\n",
      "\n"
     ]
    }
   ],
   "source": [
    "import numpy as np\n",
    "\n",
    "dtype_list = {'integer':'i','boolean':'?','unsigned integer':'u','float':'f','complex float':'c','timedelta':'m','date time':'M','Object':'O','string':'S','unicode string':'U','fixed chunck of memory for other type(void)':'V'}\n",
    "\n",
    "\n",
    "\n",
    "for datatype,character in dtype_list.items():\n",
    "  try:\n",
    "    arr = np.array([0,1,2,3,4,5],dtype=character)\n",
    "    print(f\"{datatype} array: {arr} : data type: {arr.dtype}\",end=\"\\n------------------------------------\\n\\n\")\n",
    "  except:\n",
    "    print(f\"{datatype} is not possible on array {arr}\",end=\"\\n------------------------------------\\n\\n\")\n",
    "  "
   ]
  },
  {
   "cell_type": "code",
   "execution_count": 37,
   "id": "47938098-b046-4152-b8d2-2312748f89f4",
   "metadata": {},
   "outputs": [
    {
     "name": "stdout",
     "output_type": "stream",
     "text": [
      "[1 2 3]\n"
     ]
    }
   ],
   "source": [
    "import numpy as np\n",
    "\n",
    "arr = np.array([1.1,2.1,3.1],dtype='i')\n",
    "\n",
    "print(arr)"
   ]
  },
  {
   "cell_type": "code",
   "execution_count": 40,
   "id": "d8709b8d",
   "metadata": {},
   "outputs": [
    {
     "name": "stdout",
     "output_type": "stream",
     "text": [
      "[b'ap' b'ba' b'ch']\n"
     ]
    }
   ],
   "source": [
    "#Fixed length\n",
    "\n",
    "import numpy as np\n",
    "\n",
    "arr = np.array(['apple','banana','cherry'],dtype='S2')\n",
    "\n",
    "print(arr)"
   ]
  },
  {
   "cell_type": "markdown",
   "id": "2f19048c",
   "metadata": {},
   "source": [
    "## 15. Converting datatype"
   ]
  },
  {
   "cell_type": "code",
   "execution_count": 51,
   "id": "715de885",
   "metadata": {},
   "outputs": [
    {
     "name": "stdout",
     "output_type": "stream",
     "text": [
      "old array: [1.1 2.1 3.2], new arr: [1 2 3]\n",
      "--------------------------------------------\n",
      "converting to boolean:\n",
      " array: [1.1 2.1 3.2] : new array: [ True  True  True]\n"
     ]
    }
   ],
   "source": [
    "import numpy as np\n",
    "\n",
    "arr = np.array([1.1,2.1,3.2])\n",
    "\n",
    "newarr = arr.astype('i')\n",
    "\n",
    "print(f\"old array: {arr}, new arr: {newarr}\")\n",
    "\n",
    "print(\"--------------------------------------------\")\n",
    "\n",
    "print(f\"converting to boolean:\\n array: {arr} : new array: {arr.astype('?')}\")"
   ]
  },
  {
   "cell_type": "markdown",
   "id": "b3cb2d35",
   "metadata": {},
   "source": [
    "## 16. Numpy array copy"
   ]
  },
  {
   "cell_type": "code",
   "execution_count": 53,
   "id": "14f590be",
   "metadata": {},
   "outputs": [
    {
     "name": "stdout",
     "output_type": "stream",
     "text": [
      "Old array: [1 2 3], new array: [1 2 3]\n",
      "Old array: [1 2 1], new array: [1 2 3]\n"
     ]
    }
   ],
   "source": [
    "import numpy as np\n",
    "\n",
    "arr = np.array([1,2,3])\n",
    "new_arr = arr.copy()\n",
    "\n",
    "print(f\"Old array: {arr}, new array: {new_arr}\")\n",
    "\n",
    "arr[2] = 1\n",
    "\n",
    "print(f\"Old array: {arr}, new array: {new_arr}\")"
   ]
  },
  {
   "cell_type": "markdown",
   "id": "b9e2cc42",
   "metadata": {},
   "source": [
    "## 17. Numpy array view"
   ]
  },
  {
   "cell_type": "code",
   "execution_count": 55,
   "id": "69e77933",
   "metadata": {},
   "outputs": [
    {
     "name": "stdout",
     "output_type": "stream",
     "text": [
      "Old array: [1 2 3 4], new array: [1 2 3 4]\n",
      "Old array: [ 1  2 10  4], new array: [ 1  2 10  4]\n"
     ]
    }
   ],
   "source": [
    "import numpy as np\n",
    "\n",
    "arr = np.array([1,2,3,4])\n",
    "new_arr = arr.view()\n",
    "\n",
    "\n",
    "print(f\"Old array: {arr}, new array: {new_arr}\")\n",
    "\n",
    "arr[2] = 10\n",
    "\n",
    "\n",
    "print(f\"Old array: {arr}, new array: {new_arr}\")"
   ]
  },
  {
   "cell_type": "markdown",
   "id": "56215bd9",
   "metadata": {},
   "source": [
    "## 18. check if array owns its data"
   ]
  },
  {
   "cell_type": "code",
   "execution_count": 59,
   "id": "9d157d1d",
   "metadata": {},
   "outputs": [
    {
     "name": "stdout",
     "output_type": "stream",
     "text": [
      "[1 2 3 4]\n",
      "None\n"
     ]
    }
   ],
   "source": [
    "import numpy as np\n",
    "\n",
    "arr = np.array([1, 2, 3, 4])\n",
    "new_arrview = arr.view()\n",
    "new_arrcopy = arr.copy()\n",
    "\n",
    "\n",
    "print(new_arrview.base)\n",
    "print(new_arrcopy.base)  #None means it owns"
   ]
  },
  {
   "cell_type": "markdown",
   "id": "3e40482a",
   "metadata": {},
   "source": [
    "## 19. Get the shape of an array"
   ]
  },
  {
   "cell_type": "code",
   "execution_count": 63,
   "id": "be4ceaad",
   "metadata": {},
   "outputs": [
    {
     "name": "stdout",
     "output_type": "stream",
     "text": [
      "array: [1 2 3 4], shape: (4,)\n",
      "\n",
      "array:\n",
      " [[1 2 3]\n",
      " [4 5 6]], shape: (2, 3)\n",
      "\n",
      "array: [[[[[1 2 3 4 5]]]]], shape: (1, 1, 1, 1, 5)\n"
     ]
    }
   ],
   "source": [
    "import numpy as np\n",
    "\n",
    "arr = np.array([1,2,3,4])\n",
    "print(f\"array: {arr}, shape: {arr.shape}\\n\")\n",
    "\n",
    "arr = np.array([[1,2,3],[4,5,6]])\n",
    "print(f\"array:\\n {arr}, shape: {arr.shape}\\n\")\n",
    "\n",
    "arr = np.array([1,2,3,4,5],ndmin=5)\n",
    "print(f\"array: {arr}, shape: {arr.shape}\")"
   ]
  },
  {
   "cell_type": "markdown",
   "id": "4cc4cfd0",
   "metadata": {},
   "source": [
    "## 20. NumPy array reshape\n"
   ]
  },
  {
   "cell_type": "code",
   "execution_count": 71,
   "id": "b2d14a88",
   "metadata": {},
   "outputs": [
    {
     "name": "stdout",
     "output_type": "stream",
     "text": [
      "[ 1  2  3  4  5  6  7  8  9 10]\n",
      "array with shape 2 rows and 3 columns :\n",
      " [[ 1  2  3  4  5]\n",
      " [ 6  7  8  9 10]]\n"
     ]
    }
   ],
   "source": [
    "import numpy as np\n",
    "\n",
    "arr = np.array([i for i in range(1,11)])\n",
    "print(arr)\n",
    "\n",
    "new_arr = arr.reshape(2,5)\n",
    "print(f\"array with shape 2 rows and 3 columns :\\n {new_arr}\")"
   ]
  },
  {
   "cell_type": "code",
   "execution_count": 77,
   "id": "415db39b",
   "metadata": {},
   "outputs": [
    {
     "name": "stdout",
     "output_type": "stream",
     "text": [
      "[ 1  2  3  4  5  6  7  8  9 10]\n",
      "(3,3) shape is not possible for the above array\n"
     ]
    }
   ],
   "source": [
    "import numpy as np\n",
    "\n",
    "arr = np.array([i for i in range(1, 11)])\n",
    "print(arr)\n",
    "\n",
    "try:\n",
    "  new_arr = arr.reshape(3, 3)\n",
    "  print(new_arr)\n",
    "except:\n",
    "  print(\"(3,3) shape is not possible for the above array\")"
   ]
  },
  {
   "cell_type": "code",
   "execution_count": 96,
   "id": "a233d75e",
   "metadata": {},
   "outputs": [
    {
     "name": "stdout",
     "output_type": "stream",
     "text": [
      "array: [ 1  2  3  4  5  6  7  8  9 10 11 12 13 14 15 16]\n",
      "reshaped 3D array: \n",
      "[[[ 1  2]\n",
      "  [ 3  4]\n",
      "  [ 5  6]\n",
      "  [ 7  8]]\n",
      "\n",
      " [[ 9 10]\n",
      "  [11 12]\n",
      "  [13 14]\n",
      "  [15 16]]]\n",
      "-----------------------------------------------------------\n",
      "returing view: [ 1  2  3  4  5  6  7  8  9 10 11 12 13 14 15 16]\n"
     ]
    }
   ],
   "source": [
    "import numpy as np\n",
    "\n",
    "arr = np.array([i for i in range(1,17)])\n",
    "print(f\"array: {arr}\")\n",
    "\n",
    "new_arr = arr.reshape(2,4,2)\n",
    "print(f\"reshaped 3D array: \\n{new_arr}\")\n",
    "print(\"-----------------------------------------------------------\")\n",
    "print(\"returing view:\",new_arr.base)"
   ]
  },
  {
   "cell_type": "code",
   "execution_count": 97,
   "id": "edf4b36c",
   "metadata": {},
   "outputs": [
    {
     "name": "stdout",
     "output_type": "stream",
     "text": [
      "[ 1  2  3  4  5  6  7  8  9 10]\n",
      "--------------------------\n",
      "array with shape 2 rows and 3 columns :\n",
      " [[ 1  2  3  4  5]\n",
      " [ 6  7  8  9 10]]\n"
     ]
    }
   ],
   "source": [
    "import numpy as np\n",
    "\n",
    "arr = np.array([i for i in range(1, 11)])\n",
    "print(arr)\n",
    "\n",
    "print(\"--------------------------\")\n",
    "\n",
    "new_arr = arr.reshape(2, 5)\n",
    "print(f\"array with shape 2 rows and 3 columns :\\n {new_arr}\")"
   ]
  },
  {
   "cell_type": "markdown",
   "id": "3baa7c4c",
   "metadata": {},
   "source": [
    "## 21. unknown dimension"
   ]
  },
  {
   "cell_type": "code",
   "execution_count": 111,
   "id": "1ae55eca",
   "metadata": {},
   "outputs": [
    {
     "name": "stdout",
     "output_type": "stream",
     "text": [
      "[ 1  2  3  4  5  6  7  8  9 10 11 12 13 14 15 16 17 18]\n",
      "--------------------------\n",
      "reshaped array:\n",
      " [[[ 1  2  3]\n",
      "  [ 4  5  6]]\n",
      "\n",
      " [[ 7  8  9]\n",
      "  [10 11 12]]\n",
      "\n",
      " [[13 14 15]\n",
      "  [16 17 18]]]\n",
      "shape:  (3, 2, 3)\n"
     ]
    }
   ],
   "source": [
    "import numpy as np\n",
    "\n",
    "arr = np.array([i for i in range(1,19)])\n",
    "print(arr)\n",
    "\n",
    "print(\"--------------------------\")\n",
    "\n",
    "new_arr = arr.reshape(3,-1,3)\n",
    "print(\"reshaped array:\\n\",new_arr)\n",
    "print(\"shape: \",new_arr.shape)"
   ]
  },
  {
   "cell_type": "code",
   "execution_count": 117,
   "id": "b129f47b",
   "metadata": {},
   "outputs": [
    {
     "name": "stdout",
     "output_type": "stream",
     "text": [
      "[ 1  2  3  4  5  6  7  8  9 10 11 12 13 14 15 16 17 18]\n",
      "--------------------------\n",
      "only specity one unknown dimension\n"
     ]
    }
   ],
   "source": [
    "import numpy as np\n",
    "\n",
    "arr = np.array([i for i in range(1, 19)])\n",
    "print(arr)\n",
    "\n",
    "print(\"--------------------------\")\n",
    "\n",
    "try:\n",
    "  new_arr = arr.reshape(3, -1, -1)\n",
    "  print(\"reshaped array:\\n\", new_arr)\n",
    "  print(\"shape: \", new_arr.shape)\n",
    "except:\n",
    "  print(\"only specity one unknown dimension\")"
   ]
  },
  {
   "cell_type": "markdown",
   "id": "d70a61a4",
   "metadata": {},
   "source": [
    "## 22. Flattening the arrays"
   ]
  },
  {
   "cell_type": "code",
   "execution_count": 123,
   "id": "e0702121",
   "metadata": {},
   "outputs": [
    {
     "name": "stdout",
     "output_type": "stream",
     "text": [
      "array: \n",
      " [[ 1  2  3  4  5]\n",
      " [ 6  7  8  9 10]]\n",
      "Flatten array [ 1  2  3  4  5  6  7  8  9 10]\n"
     ]
    }
   ],
   "source": [
    "import numpy as np\n",
    "\n",
    "arr = np.array([i for i in range(1,11)]).reshape(2,5)\n",
    "print(\"array: \\n\",arr)\n",
    "\n",
    "new_arr = arr.reshape(-1)\n",
    "print(\"Flatten array\",new_arr)\n"
   ]
  },
  {
   "cell_type": "markdown",
   "id": "feb7ea18",
   "metadata": {},
   "source": [
    "## 23. NumPy array iterating"
   ]
  },
  {
   "cell_type": "code",
   "execution_count": 125,
   "id": "c0638097",
   "metadata": {},
   "outputs": [
    {
     "name": "stdout",
     "output_type": "stream",
     "text": [
      "0 1 2 3 4 5 6 7 8 9 "
     ]
    }
   ],
   "source": [
    "import numpy as np\n",
    "\n",
    "arr = np.array([i for i in range(10)])\n",
    "\n",
    "for i in arr:\n",
    "  print(i, end=\" \")"
   ]
  },
  {
   "cell_type": "code",
   "execution_count": 126,
   "id": "9272726f",
   "metadata": {},
   "outputs": [
    {
     "name": "stdout",
     "output_type": "stream",
     "text": [
      "[1 2 3]\n",
      "[4 5 6]\n"
     ]
    }
   ],
   "source": [
    "import numpy as np\n",
    "\n",
    "arr = np.array([[1,2,3],[4,5,6]])\n",
    "\n",
    "for i in arr:\n",
    "  print(i)"
   ]
  },
  {
   "cell_type": "code",
   "execution_count": 127,
   "id": "488b5c8f",
   "metadata": {},
   "outputs": [
    {
     "name": "stdout",
     "output_type": "stream",
     "text": [
      "1 2 3 4 5 6 "
     ]
    }
   ],
   "source": [
    "import numpy as np\n",
    "\n",
    "arr = np.array([[1,2,3],[4,5,6]])\n",
    "\n",
    "for i in arr:\n",
    "  for j in i:\n",
    "    print(j,end=\" \")"
   ]
  },
  {
   "cell_type": "code",
   "execution_count": 133,
   "id": "1fc55da9",
   "metadata": {},
   "outputs": [
    {
     "name": "stdout",
     "output_type": "stream",
     "text": [
      "Array:\n",
      " [[[1 2]\n",
      "  [3 4]]\n",
      "\n",
      " [[5 6]\n",
      "  [7 8]]]\n",
      "----------------------------\n",
      "1 2 3 4 5 6 7 8 "
     ]
    }
   ],
   "source": [
    "import numpy as np\n",
    "\n",
    "arr = np.array([i for i in range(1,9)]).reshape(2,2,-1)\n",
    "print(\"Array:\\n\",arr)\n",
    "\n",
    "print(\"----------------------------\")\n",
    "\n",
    "for i in arr:\n",
    "  for j in i:\n",
    "    for k in j:\n",
    "      print(k,end=\" \")\n"
   ]
  },
  {
   "cell_type": "markdown",
   "id": "b4219c01",
   "metadata": {},
   "source": [
    "## 24. Iterating array uisng nditer()"
   ]
  },
  {
   "cell_type": "code",
   "execution_count": 136,
   "id": "8898b171",
   "metadata": {},
   "outputs": [
    {
     "name": "stdout",
     "output_type": "stream",
     "text": [
      "Array:\n",
      " [[[1 2]\n",
      "  [3 4]]\n",
      "\n",
      " [[5 6]\n",
      "  [7 8]]]\n",
      "------------------------------\n",
      "1 2 3 4 5 6 7 8 "
     ]
    }
   ],
   "source": [
    "import numpy as np\n",
    "\n",
    "arr = np.array([i for i in range(1, 9)]).reshape(2, 2, -1)\n",
    "print(\"Array:\\n\", arr)\n",
    "\n",
    "print(\"------------------------------\")\n",
    "\n",
    "for i in np.nditer(arr):\n",
    "  print(i,end=\" \")"
   ]
  },
  {
   "cell_type": "markdown",
   "id": "36871e18",
   "metadata": {},
   "source": [
    "#### -> time comparison of nditer and basic for"
   ]
  },
  {
   "cell_type": "code",
   "execution_count": 216,
   "id": "35839c42",
   "metadata": {},
   "outputs": [
    {
     "name": "stdout",
     "output_type": "stream",
     "text": [
      "Array:\n",
      " [[[ 0  1  2  3  4  5  6  7  8  9 10 11 12 13 14 15 16 17 18 19 20 21 22\n",
      "   23 24]\n",
      "  [25 26 27 28 29 30 31 32 33 34 35 36 37 38 39 40 41 42 43 44 45 46 47\n",
      "   48 49]]\n",
      "\n",
      " [[50 51 52 53 54 55 56 57 58 59 60 61 62 63 64 65 66 67 68 69 70 71 72\n",
      "   73 74]\n",
      "  [75 76 77 78 79 80 81 82 83 84 85 86 87 88 89 90 91 92 93 94 95 96 97\n",
      "   98 99]]]\n",
      "----------------------------\n",
      "0 1 2 3 4 5 6 7 8 9 10 11 12 13 14 15 16 17 18 19 20 21 22 23 24 25 26 27 28 29 30 31 32 33 34 35 36 37 38 39 40 41 42 43 44 45 46 47 48 49 50 51 52 53 54 55 56 57 58 59 60 61 62 63 64 65 66 67 68 69 70 71 72 73 74 75 76 77 78 79 80 81 82 83 84 85 86 87 88 89 90 91 92 93 94 95 96 97 98 99 \n",
      "Total time taken:  0.0007419586181640625\n"
     ]
    }
   ],
   "source": [
    "import time\n",
    "start = time.time()\n",
    "\n",
    "import numpy as np\n",
    "\n",
    "arr = np.arange(100).reshape(2, 2, -1)\n",
    "print(\"Array:\\n\", arr)\n",
    "\n",
    "print(\"----------------------------\")\n",
    "\n",
    "for i in arr:\n",
    "    for j in i:\n",
    "        for k in j:\n",
    "            print(k, end=\" \")\n",
    "            \n",
    "\n",
    "print(\"\\nTotal time taken: \",(time.time()-start))"
   ]
  },
  {
   "cell_type": "code",
   "execution_count": 217,
   "id": "e575e504",
   "metadata": {},
   "outputs": [
    {
     "name": "stdout",
     "output_type": "stream",
     "text": [
      "Array:\n",
      " [[[ 0  1  2  3  4  5  6  7  8  9 10 11 12 13 14 15 16 17 18 19 20 21 22\n",
      "   23 24]\n",
      "  [25 26 27 28 29 30 31 32 33 34 35 36 37 38 39 40 41 42 43 44 45 46 47\n",
      "   48 49]]\n",
      "\n",
      " [[50 51 52 53 54 55 56 57 58 59 60 61 62 63 64 65 66 67 68 69 70 71 72\n",
      "   73 74]\n",
      "  [75 76 77 78 79 80 81 82 83 84 85 86 87 88 89 90 91 92 93 94 95 96 97\n",
      "   98 99]]]\n",
      "----------------------------\n",
      "0 1 2 3 4 5 6 7 8 9 10 11 12 13 14 15 16 17 18 19 20 21 22 23 24 25 26 27 28 29 30 31 32 33 34 35 36 37 38 39 40 41 42 43 44 45 46 47 48 49 50 51 52 53 54 55 56 57 58 59 60 61 62 63 64 65 66 67 68 69 70 71 72 73 74 75 76 77 78 79 80 81 82 83 84 85 86 87 88 89 90 91 92 93 94 95 96 97 98 99 \n",
      "Total time taken:  0.0008029937744140625\n"
     ]
    }
   ],
   "source": [
    "import time\n",
    "\n",
    "start = time.time()\n",
    "\n",
    "import numpy as np\n",
    "\n",
    "arr = np.arange(100).reshape(2, 2, -1)\n",
    "print(\"Array:\\n\", arr)\n",
    "\n",
    "print(\"----------------------------\")\n",
    "\n",
    "for i in np.nditer(arr):\n",
    "    \n",
    "  print(i, end=\" \")\n",
    "\n",
    "print(\"\\nTotal time taken: \", (time.time() - start))"
   ]
  },
  {
   "cell_type": "markdown",
   "id": "dab371cb",
   "metadata": {},
   "source": [
    "## 25. Iterating array with different data types"
   ]
  },
  {
   "cell_type": "code",
   "execution_count": 44,
   "id": "f90746ca",
   "metadata": {},
   "outputs": [
    {
     "name": "stdout",
     "output_type": "stream",
     "text": [
      "np.bytes_(b'1')\n",
      "np.bytes_(b'0')\n",
      "np.bytes_(b'0')\n",
      "np.bytes_(b'1')\n",
      "np.bytes_(b'0')\n"
     ]
    }
   ],
   "source": [
    "import numpy as np\n",
    "\n",
    "arr = np.array([1,0,False,1,0])\n",
    "\n",
    "\n",
    "for i in np.nditer(arr,flags=['buffered'],op_dtypes=['S']):\n",
    "  print(i)\n",
    "\n"
   ]
  },
  {
   "cell_type": "markdown",
   "id": "3a56fde4",
   "metadata": {},
   "source": [
    "## 26. Iterating with different step size"
   ]
  },
  {
   "cell_type": "code",
   "execution_count": 47,
   "id": "940af29d",
   "metadata": {},
   "outputs": [
    {
     "name": "stdout",
     "output_type": "stream",
     "text": [
      "[[ 1  2  3  4  5]\n",
      " [ 6  7  8  9 10]]\n",
      "------------------------\n",
      "1 3 5 6 8 10 "
     ]
    }
   ],
   "source": [
    "import numpy as np\n",
    "\n",
    "arr = np.arange(1,11).reshape(2,5)\n",
    "print(arr)\n",
    "\n",
    "print(\"------------------------\")\n",
    "\n",
    "for i in np.nditer(arr[:,::2]):\n",
    "  print(i, end=\" \")"
   ]
  },
  {
   "cell_type": "code",
   "execution_count": 54,
   "id": "def3cef5",
   "metadata": {},
   "outputs": [
    {
     "name": "stdout",
     "output_type": "stream",
     "text": [
      "[[ 1  2]\n",
      " [ 3  4]\n",
      " [ 5  6]\n",
      " [ 7  8]\n",
      " [ 9 10]]\n",
      "------------------------\n",
      "1 2 5 6 9 10 "
     ]
    }
   ],
   "source": [
    "import numpy as np\n",
    "\n",
    "arr = np.arange(1, 11).reshape(5,2)\n",
    "print(arr)\n",
    "\n",
    "print(\"------------------------\")\n",
    "\n",
    "for i in np.nditer(arr[::2, :]):\n",
    "    print(i, end=\" \")"
   ]
  },
  {
   "cell_type": "code",
   "execution_count": 55,
   "id": "e5797046",
   "metadata": {},
   "outputs": [
    {
     "name": "stdout",
     "output_type": "stream",
     "text": [
      "Index: (0,), value: 1\n",
      "Index: (1,), value: 2\n",
      "Index: (2,), value: 3\n",
      "Index: (3,), value: 4\n",
      "Index: (4,), value: 5\n"
     ]
    }
   ],
   "source": [
    "import numpy as np\n",
    "\n",
    "arr = np.array([1,2,3,4,5])\n",
    "\n",
    "for index,val in np.ndenumerate(arr):\n",
    "  print(f\"Index: {index}, value: {val}\")"
   ]
  },
  {
   "cell_type": "code",
   "execution_count": 59,
   "id": "fae84b01",
   "metadata": {},
   "outputs": [
    {
     "name": "stdout",
     "output_type": "stream",
     "text": [
      "Index: (0, 0), value: 1\n",
      "Index: (0, 1), value: 2\n",
      "Index: (1, 0), value: 3\n",
      "Index: (1, 1), value: 4\n",
      "Index: (2, 0), value: 5\n",
      "Index: (2, 1), value: 6\n"
     ]
    }
   ],
   "source": [
    "import numpy as np\n",
    "\n",
    "arr = np.array([[1, 2],[ 3, 4],[5,6]])\n",
    "\n",
    "for index, val in np.ndenumerate(arr):\n",
    "    print(f\"Index: {index}, value: {val}\")"
   ]
  },
  {
   "cell_type": "markdown",
   "id": "2b1f0bb6",
   "metadata": {},
   "source": [
    "## 27. NumPy joining array"
   ]
  },
  {
   "cell_type": "code",
   "execution_count": 95,
   "id": "19242e5b",
   "metadata": {},
   "outputs": [
    {
     "name": "stdout",
     "output_type": "stream",
     "text": [
      "concatenated array:  [1 2 3 4 5 6 7 8 9]\n"
     ]
    }
   ],
   "source": [
    "import numpy as np\n",
    "\n",
    "arr1 = np.array([1,2,3])\n",
    "arr2 = np.array([4,5,6])\n",
    "arr3 = np.array([7,8,9])\n",
    "\n",
    "new_arr = np.concatenate((arr1,arr2,arr3))\n",
    "\n",
    "print(\"concatenated array: \",new_arr)\n"
   ]
  },
  {
   "cell_type": "code",
   "execution_count": null,
   "id": "6230d1b8",
   "metadata": {},
   "outputs": [
    {
     "name": "stdout",
     "output_type": "stream",
     "text": [
      "row wise :\n",
      " [[1 2]\n",
      " [3 4]\n",
      " [5 6]\n",
      " [7 8]]\n",
      "column wise: \n",
      " [[1 2 5 6]\n",
      " [3 4 7 8]]\n"
     ]
    }
   ],
   "source": [
    "import numpy as np\n",
    "\n",
    "arr1 = np.array([[1,2],[3,4]])\n",
    "arr2 = np.array([[5, 6], [7, 8]])\n",
    "\n",
    "new_arr = np.concatenate((arr1,arr2)) #by default axis is 0\n",
    "print(\"row wise :\\n\",new_arr)\n",
    "\n",
    "new_arr = np.concatenate((arr1,arr2),axis=1)\n",
    "print(\"column wise: \\n\",new_arr)"
   ]
  },
  {
   "cell_type": "code",
   "execution_count": 84,
   "id": "389e2481",
   "metadata": {},
   "outputs": [
    {
     "name": "stdout",
     "output_type": "stream",
     "text": [
      "default(axis =0) :\n",
      " [[[ 1  2]\n",
      "  [ 3  4]]\n",
      "\n",
      " [[ 5  6]\n",
      "  [ 7  8]]\n",
      "\n",
      " [[ 9 10]\n",
      "  [11 12]]\n",
      "\n",
      " [[13 14]\n",
      "  [15 16]]]\n",
      "-------------------\n",
      "axis=1 :\n",
      " [[[ 1  2]\n",
      "  [ 3  4]\n",
      "  [ 9 10]\n",
      "  [11 12]]\n",
      "\n",
      " [[ 5  6]\n",
      "  [ 7  8]\n",
      "  [13 14]\n",
      "  [15 16]]]\n",
      "-------------------\n",
      "axis = 2 :\n",
      " [[[ 1  2]\n",
      "  [ 3  4]]\n",
      "\n",
      " [[ 5  6]\n",
      "  [ 7  8]]\n",
      "\n",
      " [[ 9 10]\n",
      "  [11 12]]\n",
      "\n",
      " [[13 14]\n",
      "  [15 16]]]\n"
     ]
    }
   ],
   "source": [
    "import numpy as np\n",
    "\n",
    "arr1 = np.array([[[1, 2],[3,4]], [[5,6],[7, 8]]])\n",
    "arr2 = np.array([[[9, 10],[11,12]],[[13,14],[15, 16]]])\n",
    "\n",
    "new_arr = np.concatenate((arr1, arr2))  \n",
    "print(\"default(axis =0) :\\n\", new_arr)\n",
    "\n",
    "print(\"-------------------\")\n",
    "\n",
    "new_arr = np.concatenate((arr1, arr2),axis=1)\n",
    "print(\"axis=1 :\\n\", new_arr)\n",
    "\n",
    "print(\"-------------------\")\n",
    "\n",
    "new_arr = np.concatenate((arr1, arr2))\n",
    "print(\"axis = 2 :\\n\", new_arr)"
   ]
  },
  {
   "cell_type": "markdown",
   "id": "687a37b8",
   "metadata": {},
   "source": [
    "## 28. joining arrays using stack functions"
   ]
  },
  {
   "cell_type": "code",
   "execution_count": 93,
   "id": "f451add4",
   "metadata": {},
   "outputs": [
    {
     "name": "stdout",
     "output_type": "stream",
     "text": [
      "[[1 2 3]\n",
      " [4 5 6]]\n"
     ]
    }
   ],
   "source": [
    "import numpy as np\n",
    "\n",
    "arr1 = np.array([1,2,3])\n",
    "arr2 = np.array([4,5,6])\n",
    "\n",
    "arr = np.stack((arr1,arr2))\n",
    "print(arr)\n"
   ]
  },
  {
   "cell_type": "code",
   "execution_count": null,
   "id": "e9bc1a0f",
   "metadata": {},
   "outputs": [
    {
     "name": "stdout",
     "output_type": "stream",
     "text": [
      "[1 2 3 4 5 6]\n"
     ]
    }
   ],
   "source": [
    "# stack along rows\n",
    "\n",
    "import numpy as np\n",
    "\n",
    "arr1 = np.array([1, 2, 3])\n",
    "arr2 = np.array([4, 5, 6])\n",
    "\n",
    "arr = np.hstack((arr1, arr2))\n",
    "print(arr)"
   ]
  },
  {
   "cell_type": "code",
   "execution_count": null,
   "id": "63294be6",
   "metadata": {},
   "outputs": [
    {
     "name": "stdout",
     "output_type": "stream",
     "text": [
      "[[1 2 3]\n",
      " [4 5 6]]\n"
     ]
    }
   ],
   "source": [
    "# stack along columns\n",
    "\n",
    "import numpy as np\n",
    "\n",
    "arr1 = np.array([1, 2, 3])\n",
    "arr2 = np.array([4, 5, 6])\n",
    "\n",
    "arr = np.vstack((arr1, arr2))\n",
    "print(arr)"
   ]
  },
  {
   "cell_type": "code",
   "execution_count": 97,
   "id": "d6a4c658",
   "metadata": {},
   "outputs": [
    {
     "name": "stdout",
     "output_type": "stream",
     "text": [
      "[[[1 4]\n",
      "  [2 5]\n",
      "  [3 6]]]\n"
     ]
    }
   ],
   "source": [
    "# stack along height\n",
    "\n",
    "import numpy as np\n",
    "\n",
    "arr1 = np.array([1, 2, 3])\n",
    "arr2 = np.array([4, 5, 6])\n",
    "\n",
    "arr = np.dstack((arr1, arr2))\n",
    "print(arr)"
   ]
  },
  {
   "cell_type": "code",
   "execution_count": null,
   "id": "7bebd95d",
   "metadata": {},
   "outputs": [
    {
     "name": "stdout",
     "output_type": "stream",
     "text": [
      "hstack:\n",
      "  [[1 2 5 6]\n",
      " [3 4 7 8]]\n",
      "-----------------------\n",
      "vstack:\n",
      "  [[1 2]\n",
      " [3 4]\n",
      " [5 6]\n",
      " [7 8]]\n",
      "-----------------------\n",
      "dstack:\n",
      "  [[[1 5]\n",
      "  [2 6]]\n",
      "\n",
      " [[3 7]\n",
      "  [4 8]]]\n"
     ]
    }
   ],
   "source": [
    "import numpy as np\n",
    "\n",
    "arr1 = np.array([[1, 2], [3, 4]])\n",
    "arr2 = np.array([[5, 6], [7, 8]])\n",
    "\n",
    "marr = np.hstack((arr1, arr2))\n",
    "print(\"hstack:\\n \",arr)\n",
    "\n",
    "print(\"-----------------------\")\n",
    "\n",
    "arr = np.vstack((arr1, arr2))\n",
    "print(\"vstack:\\n \", arr)\n",
    "\n",
    "print(\"-----------------------\")\n",
    "\n",
    "arr = np.dstack((arr1, arr2))\n",
    "print(\"dstack:\\n \", arr)"
   ]
  },
  {
   "cell_type": "markdown",
   "id": "e00b6e0e",
   "metadata": {},
   "source": [
    "## 30. NumPy array splitting"
   ]
  },
  {
   "cell_type": "code",
   "execution_count": 109,
   "id": "f77333b7",
   "metadata": {},
   "outputs": [
    {
     "name": "stdout",
     "output_type": "stream",
     "text": [
      "splitted array: [array([1, 2, 3]), array([4, 5]), array([6, 7])]\n"
     ]
    }
   ],
   "source": [
    "import numpy as n\n",
    "\n",
    "arr = np.array([1,2,3,4,5,6,7])\n",
    "\n",
    "new_arr = np.array_split(arr,3)\n",
    "print(f\"splitted array: {new_arr}\")"
   ]
  },
  {
   "cell_type": "code",
   "execution_count": null,
   "id": "38eb0198",
   "metadata": {},
   "outputs": [
    {
     "name": "stdout",
     "output_type": "stream",
     "text": [
      "splitted array: [array([1]), array([2]), array([3]), array([], dtype=int64), array([], dtype=int64)]\n"
     ]
    }
   ],
   "source": [
    "import numpy as n\n",
    "\n",
    "arr = np.array([1, 2, 3])\n",
    "\n",
    "new_arr = np.array_split(arr, 5)  \n",
    "print(f\"splitted array: {new_arr}\")"
   ]
  },
  {
   "cell_type": "code",
   "execution_count": 110,
   "id": "f04227fb",
   "metadata": {},
   "outputs": [
    {
     "name": "stdout",
     "output_type": "stream",
     "text": [
      "splitted array: [array([1, 2, 3]), array([4, 5]), array([6, 7])]\n",
      "first array: [1 2 3]\n",
      "second array: [4 5]\n",
      "third array: [6 7]\n"
     ]
    }
   ],
   "source": [
    "import numpy as n\n",
    "\n",
    "arr = np.array([1, 2, 3, 4, 5, 6, 7])\n",
    "\n",
    "new_arr = np.array_split(arr, 3)\n",
    "print(f\"splitted array: {new_arr}\")\n",
    "\n",
    "print(f\"first array: {new_arr[0]}\")\n",
    "print(f\"second array: {new_arr[1]}\")\n",
    "print(f\"third array: {new_arr[2]}\")"
   ]
  },
  {
   "cell_type": "code",
   "execution_count": 115,
   "id": "cfe66c1b",
   "metadata": {},
   "outputs": [
    {
     "name": "stdout",
     "output_type": "stream",
     "text": [
      "array: \n",
      "[[ 1  2]\n",
      " [ 3  4]\n",
      " [ 5  6]\n",
      " [ 7  8]\n",
      " [ 9 10]]\n",
      "-----------------------------------\n",
      "splitted arrray: \n",
      "[array([[1, 2]]), array([[3, 4]]), array([[5, 6]]), array([[7, 8]]), array([[ 9, 10]])]\n"
     ]
    }
   ],
   "source": [
    "#Splitting 2d array\n",
    "\n",
    "import numpy as np\n",
    "\n",
    "arr = np.arange(1,11).reshape(5,2)\n",
    "print(f\"array: \\n{arr}\")\n",
    "\n",
    "print(\"-----------------------------------\")\n",
    "\n",
    "new_arr = np.array_split(arr,5)\n",
    "print(f\"splitted arrray: \\n{new_arr}\")"
   ]
  },
  {
   "cell_type": "code",
   "execution_count": 122,
   "id": "e91bf66c",
   "metadata": {},
   "outputs": [
    {
     "name": "stdout",
     "output_type": "stream",
     "text": [
      "array: \n",
      "[[ 1  2  3  4  5]\n",
      " [ 6  7  8  9 10]\n",
      " [11 12 13 14 15]]\n",
      "-----------------------------------\n",
      "splitted arrray: \n",
      "[array([[ 1],\n",
      "       [ 6],\n",
      "       [11]]), array([[ 2],\n",
      "       [ 7],\n",
      "       [12]]), array([[ 3],\n",
      "       [ 8],\n",
      "       [13]]), array([[ 4],\n",
      "       [ 9],\n",
      "       [14]]), array([[ 5],\n",
      "       [10],\n",
      "       [15]])]\n"
     ]
    }
   ],
   "source": [
    "# Splitting 2d array\n",
    "\n",
    "import numpy as np\n",
    "\n",
    "arr = np.arange(1, 16).reshape(3, 5)\n",
    "print(f\"array: \\n{arr}\")\n",
    "\n",
    "print(\"-----------------------------------\")\n",
    "\n",
    "new_arr = np.array_split(arr,5,axis=1)\n",
    "print(f\"splitted arrray: \\n{new_arr}\")"
   ]
  },
  {
   "cell_type": "code",
   "execution_count": 127,
   "id": "8c066f5e",
   "metadata": {},
   "outputs": [
    {
     "name": "stdout",
     "output_type": "stream",
     "text": [
      "array: \n",
      "[[ 1  2]\n",
      " [ 3  4]\n",
      " [ 5  6]\n",
      " [ 7  8]\n",
      " [ 9 10]]\n",
      "-----------------------------------\n",
      "splitted arrray-hsplit: \n",
      "[array([[1],\n",
      "       [3],\n",
      "       [5],\n",
      "       [7],\n",
      "       [9]]), array([[ 2],\n",
      "       [ 4],\n",
      "       [ 6],\n",
      "       [ 8],\n",
      "       [10]])]\n"
     ]
    }
   ],
   "source": [
    "# Splitting 2d array\n",
    "\n",
    "import numpy as np\n",
    "\n",
    "arr = np.arange(1, 11).reshape(5, 2)\n",
    "print(f\"array: \\n{arr}\")\n",
    "\n",
    "print(\"-----------------------------------\")\n",
    "\n",
    "new_arr = np.hsplit(arr,2)\n",
    "print(f\"splitted arrray-hsplit: \\n{new_arr}\")"
   ]
  },
  {
   "cell_type": "code",
   "execution_count": 132,
   "id": "df060c18",
   "metadata": {},
   "outputs": [
    {
     "name": "stdout",
     "output_type": "stream",
     "text": [
      "array: \n",
      "[[ 1  2]\n",
      " [ 3  4]\n",
      " [ 5  6]\n",
      " [ 7  8]\n",
      " [ 9 10]]\n",
      "-----------------------------------\n",
      "splitted arrray-vsplit: \n",
      "[array([[1, 2]]), array([[3, 4]]), array([[5, 6]]), array([[7, 8]]), array([[ 9, 10]])]\n"
     ]
    }
   ],
   "source": [
    "# Splitting 2d array\n",
    "\n",
    "import numpy as np\n",
    "\n",
    "arr = np.arange(1, 11).reshape(5, 2)\n",
    "print(f\"array: \\n{arr}\")\n",
    "\n",
    "print(\"-----------------------------------\")\n",
    "\n",
    "new_arr = np.vsplit(arr, 5)\n",
    "print(f\"splitted arrray-vsplit: \\n{new_arr}\")"
   ]
  },
  {
   "cell_type": "code",
   "execution_count": 143,
   "id": "5d94ff6c",
   "metadata": {},
   "outputs": [
    {
     "name": "stdout",
     "output_type": "stream",
     "text": [
      "array: \n",
      "[[ 1  2]\n",
      " [ 3  4]\n",
      " [ 5  6]\n",
      " [ 7  8]\n",
      " [ 9 10]]\n",
      "-----------------------------------\n",
      "dsplit is only possible on array of 3 dimension or above\n"
     ]
    }
   ],
   "source": [
    "# Splitting 2d array\n",
    "\n",
    "import numpy as np\n",
    "\n",
    "arr = np.arange(1, 11).reshape(5, 2)\n",
    "print(f\"array: \\n{arr}\")\n",
    "\n",
    "print(\"-----------------------------------\")\n",
    "\n",
    "try:\n",
    "  new_arr = np.dsplit(arr, 2)\n",
    "  print(f\"splitted arrray-hdsplit: \\n{new_arr}\")\n",
    "except:\n",
    "  print(\"dsplit is only possible on array of 3 dimension or above\")"
   ]
  },
  {
   "cell_type": "code",
   "execution_count": null,
   "id": "cd86644a",
   "metadata": {},
   "outputs": [
    {
     "name": "stdout",
     "output_type": "stream",
     "text": [
      "array: \n",
      "[[[ 1  2  3]\n",
      "  [ 4  5  6]]\n",
      "\n",
      " [[ 7  8  9]\n",
      "  [10 11 12]]\n",
      "\n",
      " [[13 14 15]\n",
      "  [16 17 18]]]\n",
      "-----------------------------------\n",
      "splitted arrray-vsplit: \n",
      "[array([[[ 1],\n",
      "        [ 4]],\n",
      "\n",
      "       [[ 7],\n",
      "        [10]],\n",
      "\n",
      "       [[13],\n",
      "        [16]]]), array([[[ 2],\n",
      "        [ 5]],\n",
      "\n",
      "       [[ 8],\n",
      "        [11]],\n",
      "\n",
      "       [[14],\n",
      "        [17]]]), array([[[ 3],\n",
      "        [ 6]],\n",
      "\n",
      "       [[ 9],\n",
      "        [12]],\n",
      "\n",
      "       [[15],\n",
      "        [18]]])]\n"
     ]
    }
   ],
   "source": [
    "# Splitting 2d array\n",
    "\n",
    "import numpy as np\n",
    "\n",
    "arr = np.arange(1, 19).reshape(3, 2,3)\n",
    "print(f\"array: \\n{arr}\")\n",
    "\n",
    "print(\"-----------------------------------\")\n",
    "\n",
    "new_arr = np.dsplit(arr, 3)\n",
    "print(f\"splitted arrray-vsplit: \\n{new_arr}\")"
   ]
  },
  {
   "cell_type": "markdown",
   "id": "20388789",
   "metadata": {},
   "source": [
    "## 31. Array searching"
   ]
  },
  {
   "cell_type": "code",
   "execution_count": 146,
   "id": "115067b2",
   "metadata": {},
   "outputs": [
    {
     "name": "stdout",
     "output_type": "stream",
     "text": [
      "Index of value 3: (array([2]),)\n"
     ]
    }
   ],
   "source": [
    "import  numpy as np\n",
    "\n",
    "arr = np.array([1,2,3,4])\n",
    "\n",
    "index_val = np.where(arr==3)\n",
    "\n",
    "print(f\"Index of value 3: {index_val}\")"
   ]
  },
  {
   "cell_type": "code",
   "execution_count": 149,
   "id": "7577dd73",
   "metadata": {},
   "outputs": [
    {
     "name": "stdout",
     "output_type": "stream",
     "text": [
      "(array([1, 3, 5, 7]),)\n"
     ]
    }
   ],
   "source": [
    "#Find odd numbers- odd numbers are at even index\n",
    "\n",
    "import numpy as np\n",
    "\n",
    "arr = np.array([1,2,3,4,5,6,7,8])\n",
    "\n",
    "odd_nums = np.where(arr%2 == 0)\n",
    "\n",
    "print(odd_nums)"
   ]
  },
  {
   "cell_type": "code",
   "execution_count": 150,
   "id": "ec6d9a2b",
   "metadata": {},
   "outputs": [
    {
     "name": "stdout",
     "output_type": "stream",
     "text": [
      "(array([0, 2, 4, 6]),)\n"
     ]
    }
   ],
   "source": [
    "#find even numbers\n",
    "\n",
    "import numpy as np\n",
    "\n",
    "arr = np.array([1,2,3,4,5,6,7,8])\n",
    "\n",
    "even_nums = np.where(arr%2==1)\n",
    "\n",
    "print(even_nums)"
   ]
  },
  {
   "cell_type": "markdown",
   "id": "93212a50",
   "metadata": {},
   "source": [
    "## 32. Search sorted"
   ]
  },
  {
   "cell_type": "code",
   "execution_count": 166,
   "id": "f44bc4cb",
   "metadata": {},
   "outputs": [
    {
     "name": "stdout",
     "output_type": "stream",
     "text": [
      "1\n"
     ]
    }
   ],
   "source": [
    "import numpy as np\n",
    "\n",
    "arr = np.array([6,7,8,9])\n",
    "\n",
    "new_arr = np.searchsorted(arr,7)\n",
    "\n",
    "print(new_arr)"
   ]
  },
  {
   "cell_type": "code",
   "execution_count": 177,
   "id": "55fb8a9a",
   "metadata": {},
   "outputs": [
    {
     "name": "stdout",
     "output_type": "stream",
     "text": [
      "Position where 2 shuld be inserted: 1\n",
      "Position where 9 shuld be inserted: 3\n",
      "Position where 4 shuld be inserted: 2\n"
     ]
    }
   ],
   "source": [
    "import numpy as np\n",
    "\n",
    "arr = np.array([1,3,6,10])\n",
    "\n",
    "position = np.searchsorted(arr, 2)\n",
    "print(f\"Position where 2 shuld be inserted: {position}\")\n",
    "\n",
    "position = np.searchsorted(arr, 9)\n",
    "print(f\"Position where 9 shuld be inserted: {position}\")\n",
    "\n",
    "position = np.searchsorted(arr, 4)\n",
    "print(f\"Position where 4 shuld be inserted: {position}\")"
   ]
  },
  {
   "cell_type": "code",
   "execution_count": 189,
   "id": "67db1d6e",
   "metadata": {},
   "outputs": [
    {
     "name": "stdout",
     "output_type": "stream",
     "text": [
      "Position where 2 shuld be inserted (it will give right side of existing 3): 2\n",
      "Position where 3 shuld be inserted( it give left side): 1\n",
      "Position where 4 shuld be inserted: 2\n"
     ]
    }
   ],
   "source": [
    "# Search from the right side - It doesnt mean that count from left \n",
    "# It actualy means that insert left if that element aldready present in array\n",
    "\n",
    "\n",
    "arr = np.array([1, 3, 6, 10])\n",
    "\n",
    "position = np.searchsorted(arr, 3,side='right')\n",
    "print(f\"Position where 2 shuld be inserted (it will give right side of existing 3): {position}\")\n",
    "\n",
    "position = np.searchsorted(arr, 3)\n",
    "print(f\"Position where 3 shuld be inserted( it give left side): {position}\")\n",
    "\n",
    "position = np.searchsorted(arr, 4, side=\"right\")\n",
    "print(f\"Position where 4 shuld be inserted: {position}\")"
   ]
  },
  {
   "cell_type": "code",
   "execution_count": 199,
   "id": "c25858df",
   "metadata": {},
   "outputs": [
    {
     "name": "stdout",
     "output_type": "stream",
     "text": [
      "position for inserting elements: (2, 6, 8) in [1 3 5 7 9]\n",
      " [1 3 4]\n"
     ]
    }
   ],
   "source": [
    "#Multiple values\n",
    "\n",
    "import numpy as np\n",
    "\n",
    "arr = np.array([1,3,5,7,9])\n",
    "\n",
    "positions = np.searchsorted(arr,[2,6,8])\n",
    "\n",
    "print(f'position for inserting elements: {2,6,8} in {arr}\\n {positions}')"
   ]
  },
  {
   "cell_type": "markdown",
   "id": "00ecee65",
   "metadata": {},
   "source": [
    "## 33. NumPy array sorting"
   ]
  },
  {
   "cell_type": "code",
   "execution_count": 201,
   "id": "ba4d8dd8",
   "metadata": {},
   "outputs": [
    {
     "name": "stdout",
     "output_type": "stream",
     "text": [
      "Sorted array : [0 1 2 5]\n"
     ]
    }
   ],
   "source": [
    "import numpy as np\n",
    "\n",
    "arr = np.array([0,5,2,1])\n",
    "\n",
    "sorted_array = np.sort(arr)\n",
    "\n",
    "print(f\"Sorted array : {sorted_array}\")"
   ]
  },
  {
   "cell_type": "code",
   "execution_count": 203,
   "id": "439db9eb",
   "metadata": {},
   "outputs": [
    {
     "name": "stdout",
     "output_type": "stream",
     "text": [
      "sorted : [0 1 2 5]\n",
      "sorted : [False False  True  True]\n"
     ]
    }
   ],
   "source": [
    "# sorting different datatypes\n",
    "\n",
    "import numpy as np\n",
    "\n",
    "string_arr = np.array([\"banana\",\"cherry\",\"apple\"])\n",
    "print(f\"sorted : {np.sort(arr)}\")\n",
    "\n",
    "bool_arr = np.array([True, False, False,True])\n",
    "print(f\"sorted : {np.sort(bool_arr)}\")\n",
    "\n"
   ]
  },
  {
   "cell_type": "code",
   "execution_count": 207,
   "id": "438e1365",
   "metadata": {},
   "outputs": [
    {
     "name": "stdout",
     "output_type": "stream",
     "text": [
      "Sorted array:\n",
      " [[3 4 6]\n",
      " [3 8 8]\n",
      " [2 3 8]]\n"
     ]
    }
   ],
   "source": [
    "# sorting 2D array\n",
    "\n",
    "import numpy as np\n",
    "\n",
    "arr = np.array([[4,3,6],[8,8,3],[8,2,3]])\n",
    "\n",
    "print(f\"Sorted array:\\n {np.sort(arr)}\")"
   ]
  },
  {
   "cell_type": "code",
   "execution_count": 206,
   "id": "ab9b835b",
   "metadata": {},
   "outputs": [
    {
     "name": "stdout",
     "output_type": "stream",
     "text": [
      "Sorted array:\n",
      " [[[3 4 6]\n",
      "  [3 8 8]]\n",
      "\n",
      " [[2 3 8]\n",
      "  [2 4 9]]]\n"
     ]
    }
   ],
   "source": [
    "# sorting 3D array\n",
    "\n",
    "import numpy as np\n",
    "\n",
    "arr = np.array([[[4, 3, 6], [8, 8, 3]], [[8, 2, 3],[4,2,9]]])\n",
    "\n",
    "print(f\"Sorted array:\\n {np.sort(arr)}\")"
   ]
  },
  {
   "cell_type": "markdown",
   "id": "c2d3950e",
   "metadata": {},
   "source": [
    "## 34. NumPy filter array"
   ]
  },
  {
   "cell_type": "code",
   "execution_count": 209,
   "id": "50729188",
   "metadata": {},
   "outputs": [
    {
     "name": "stdout",
     "output_type": "stream",
     "text": [
      "New array:  [2 3 5]\n"
     ]
    }
   ],
   "source": [
    "import numpy as np\n",
    "\n",
    "arr = np.array([1,2,3,4,5,6])\n",
    "\n",
    "refer_arr = [False, True, True, False, True, False]\n",
    "\n",
    "new_arr = arr[refer_arr]\n",
    "\n",
    "print(\"New array: \",new_arr)"
   ]
  },
  {
   "cell_type": "code",
   "execution_count": 212,
   "id": "e2a856ad",
   "metadata": {},
   "outputs": [
    {
     "name": "stdout",
     "output_type": "stream",
     "text": [
      "Filter array:  [False, True, False, True, False, True, False, True]\n",
      "Filtered array:  [2 4 6 8]\n"
     ]
    }
   ],
   "source": [
    "#Creating filter array\n",
    "\n",
    "import numpy as np\n",
    "\n",
    "arr = np.array([1,2,3,4,5,6,7,8])\n",
    "\n",
    "filter_arr=[]\n",
    "\n",
    "for elment in arr:\n",
    "  if elment%2 == 0:\n",
    "    filter_arr.append(True)\n",
    "  else:\n",
    "    filter_arr.append(False)\n",
    "\n",
    "print(\"Filter array: \",filter_arr)\n",
    "print(\"Filtered array: \",arr[filter_arr])"
   ]
  },
  {
   "cell_type": "code",
   "execution_count": 213,
   "id": "5e2d495a",
   "metadata": {},
   "outputs": [
    {
     "name": "stdout",
     "output_type": "stream",
     "text": [
      "[1 2 3 4 5 6 7 8 9]\n",
      "Filter array:  [2 4 6 8]\n"
     ]
    }
   ],
   "source": [
    "#creating filter directly from array\n",
    "\n",
    "import numpy as np\n",
    "\n",
    "arr = np.array([i for i in range(1,10)])\n",
    "print(arr)\n",
    "\n",
    "filter_arr = arr%2 == 0\n",
    "\n",
    "new_arr = arr[filter_arr]\n",
    "\n",
    "print(\"Filter array: \",new_arr)"
   ]
  },
  {
   "cell_type": "code",
   "execution_count": null,
   "id": "bce3a438",
   "metadata": {},
   "outputs": [],
   "source": []
  }
 ],
 "metadata": {
  "kernelspec": {
   "display_name": "base",
   "language": "python",
   "name": "python3"
  },
  "language_info": {
   "codemirror_mode": {
    "name": "ipython",
    "version": 3
   },
   "file_extension": ".py",
   "mimetype": "text/x-python",
   "name": "python",
   "nbconvert_exporter": "python",
   "pygments_lexer": "ipython3",
   "version": "3.13.5"
  }
 },
 "nbformat": 4,
 "nbformat_minor": 5
}
