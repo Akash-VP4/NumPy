{
 "cells": [
  {
   "cell_type": "markdown",
   "id": "4bf64238",
   "metadata": {},
   "source": [
    "## 1. NumPy ufuncs"
   ]
  },
  {
   "cell_type": "code",
   "execution_count": 10,
   "id": "93573cae",
   "metadata": {},
   "outputs": [
    {
     "name": "stdout",
     "output_type": "stream",
     "text": [
      "[6, 8, 10, 12]\n"
     ]
    }
   ],
   "source": [
    "# Add element of two list\n",
    "\n",
    "arr1 = [1,2,3,4]\n",
    "arr2 = [5,6,7,8]\n",
    "new_arr = []\n",
    "\n",
    "for i,j in zip(arr1,arr2):\n",
    "  new_arr.append(i+j)\n",
    "\n",
    "print(new_arr)\n",
    "\n"
   ]
  },
  {
   "cell_type": "code",
   "execution_count": 3,
   "id": "b3229461",
   "metadata": {},
   "outputs": [
    {
     "name": "stdout",
     "output_type": "stream",
     "text": [
      "[ 6  8 10 12]\n"
     ]
    }
   ],
   "source": [
    "#NumPy add()\n",
    "\n",
    "import numpy as np\n",
    "\n",
    "arr1 = [1,2,3,4]\n",
    "arr2 = [5,6,7,8]\n",
    "new_arr= np.add(arr1,arr2)\n",
    "\n",
    "print(new_arr)"
   ]
  },
  {
   "cell_type": "markdown",
   "id": "b3f9028b",
   "metadata": {},
   "source": [
    "## 2. Create ufunc"
   ]
  },
  {
   "cell_type": "code",
   "execution_count": null,
   "id": "3f6dc547",
   "metadata": {},
   "outputs": [
    {
     "name": "stdout",
     "output_type": "stream",
     "text": [
      "[1, 2, 3, 4, 5, 6, 7, 8]\n"
     ]
    }
   ],
   "source": [
    "import numpy as np\n",
    "\n",
    "def myadd(arr1,arr2):\n",
    "  return arr1+arr2\n",
    "\n",
    "my_add = np.frompyfunc(myadd,2,1)\n",
    "\n",
    "print(myadd([1,2,3,4],[5,6,7,8]))"
   ]
  },
  {
   "cell_type": "code",
   "execution_count": 22,
   "id": "8c5e7df3",
   "metadata": {},
   "outputs": [
    {
     "name": "stdout",
     "output_type": "stream",
     "text": [
      "<class 'numpy.ufunc'>\n"
     ]
    }
   ],
   "source": [
    "#check unfunc\n",
    "\n",
    "print(type(np.add))"
   ]
  },
  {
   "cell_type": "code",
   "execution_count": 15,
   "id": "1d306b2f",
   "metadata": {},
   "outputs": [
    {
     "name": "stdout",
     "output_type": "stream",
     "text": [
      "<class 'numpy._ArrayFunctionDispatcher'>\n"
     ]
    }
   ],
   "source": [
    "#Check concatenate\n",
    "\n",
    "import numpy as np\n",
    "\n",
    "print(type(np.concatenate))"
   ]
  },
  {
   "cell_type": "code",
   "execution_count": 19,
   "id": "cf9607a2",
   "metadata": {},
   "outputs": [
    {
     "name": "stdout",
     "output_type": "stream",
     "text": [
      "Add is ufunc\n"
     ]
    }
   ],
   "source": [
    "#checkin ufunc using if statement\n",
    "import numpy as np\n",
    "\n",
    "if type(np.add) == (np.ufunc):\n",
    "  print(\"Add is ufunc\")\n",
    "else:\n",
    "  print(\"Add is not ufunc\")"
   ]
  },
  {
   "cell_type": "code",
   "execution_count": 20,
   "id": "d8758c21",
   "metadata": {},
   "outputs": [
    {
     "data": {
      "text/plain": [
       "numpy.ufunc"
      ]
     },
     "execution_count": 20,
     "metadata": {},
     "output_type": "execute_result"
    }
   ],
   "source": [
    "np.ufunc"
   ]
  },
  {
   "cell_type": "markdown",
   "id": "097621f3",
   "metadata": {},
   "source": [
    "## 3. Simple arithmetic"
   ]
  },
  {
   "cell_type": "markdown",
   "id": "95cd1f96",
   "metadata": {},
   "source": [
    "#### Division"
   ]
  },
  {
   "cell_type": "code",
   "execution_count": 23,
   "id": "b85db567",
   "metadata": {},
   "outputs": [
    {
     "name": "stdout",
     "output_type": "stream",
     "text": [
      "[ 3.33333333  4.          3.          5.         25.          1.81818182]\n"
     ]
    }
   ],
   "source": [
    "import numpy as np\n",
    "\n",
    "arr1 = np.array([10,20,30,40,50,60])\n",
    "arr2  = np.array([3,5,10,8,2,33])\n",
    "\n",
    "new_arr = np.divide(arr1,arr2)\n",
    "\n",
    "print(new_arr)"
   ]
  },
  {
   "cell_type": "markdown",
   "id": "aa0f82f0",
   "metadata": {},
   "source": [
    "#### Power"
   ]
  },
  {
   "cell_type": "code",
   "execution_count": 24,
   "id": "fab3be65",
   "metadata": {},
   "outputs": [
    {
     "name": "stdout",
     "output_type": "stream",
     "text": [
      "[           1000         3200000 590490000000000   6553600000000\n",
      "            2500               0]\n"
     ]
    }
   ],
   "source": [
    "import numpy as np\n",
    "\n",
    "\n",
    "arr1 = np.array([10, 20, 30, 40, 50, 60])\n",
    "arr2 = np.array([3, 5, 10, 8, 2, 33])\n",
    "\n",
    "new_arr = np.power(arr1,arr2)\n",
    "\n",
    "print(new_arr)"
   ]
  },
  {
   "cell_type": "markdown",
   "id": "dff3198d",
   "metadata": {},
   "source": [
    "#### Remaider"
   ]
  },
  {
   "cell_type": "code",
   "execution_count": 40,
   "id": "4077f5ae",
   "metadata": {},
   "outputs": [
    {
     "name": "stdout",
     "output_type": "stream",
     "text": [
      "Remainder:  [ 1  0  0  0  0 27]\n",
      "\n",
      "---------------------------------------------------\n",
      "\n",
      "Remainder:  [ 1  0  0  0  0 27]\n"
     ]
    }
   ],
   "source": [
    "import numpy as np\n",
    "\n",
    "\n",
    "arr1 = np.array([10, 20, 30, 40, 50, 60])\n",
    "arr2 = np.array([3, 5, 10, 8, 2, 33])\n",
    "\n",
    "new_arr = np.mod(arr1, arr2)\n",
    "\n",
    "print(\"Remainder: \",new_arr)\n",
    "\n",
    "\n",
    "print(\"\\n---------------------------------------------------\\n\")\n",
    "\n",
    "new_arr2 = np.remainder(arr1,arr2)\n",
    "\n",
    "print(\"Remainder: \",new_arr2)"
   ]
  },
  {
   "cell_type": "markdown",
   "id": "bbd38c4e",
   "metadata": {},
   "source": [
    "#### Quotient and Mod"
   ]
  },
  {
   "cell_type": "code",
   "execution_count": 34,
   "id": "7d77789b",
   "metadata": {},
   "outputs": [
    {
     "name": "stdout",
     "output_type": "stream",
     "text": [
      "(array([ 3,  4,  3,  5, 25,  1]), array([ 1,  0,  0,  0,  0, 27]))\n"
     ]
    }
   ],
   "source": [
    "import numpy as np\n",
    "\n",
    "\n",
    "arr1 = np.array([10, 20, 30, 40, 50, 60])\n",
    "arr2 = np.array([3, 5, 10, 8, 2, 33])\n",
    "\n",
    "new_arr = np.divmod(arr1, arr2)\n",
    "\n",
    "print(new_arr)"
   ]
  },
  {
   "cell_type": "markdown",
   "id": "0973962a",
   "metadata": {},
   "source": [
    "#### Absolute values"
   ]
  },
  {
   "cell_type": "code",
   "execution_count": 38,
   "id": "7675cace",
   "metadata": {},
   "outputs": [
    {
     "name": "stdout",
     "output_type": "stream",
     "text": [
      "Absolute array: [2 1 5 4 5 9]\n",
      "\n",
      "----------------------------------------\n",
      "\n",
      "With abs: [2 1 5 4 5 9]\n"
     ]
    }
   ],
   "source": [
    "import numpy as np\n",
    "\n",
    "arr = np.array([2,-1,-5,4,-5,9])\n",
    "\n",
    "new_arr = np.absolute(arr)\n",
    "\n",
    "print(\"Absolute array:\",new_arr)\n",
    "\n",
    "print(\"\\n----------------------------------------\\n\")\n",
    "\n",
    "print(\"With abs:\",np.abs(arr))"
   ]
  },
  {
   "cell_type": "markdown",
   "id": "ecb2a1f3",
   "metadata": {},
   "source": [
    "## 4. Rounding decimals"
   ]
  },
  {
   "cell_type": "markdown",
   "id": "ef21bac7",
   "metadata": {},
   "source": [
    "#### truncation"
   ]
  },
  {
   "cell_type": "code",
   "execution_count": 48,
   "id": "6ad9ab89",
   "metadata": {},
   "outputs": [
    {
     "name": "stdout",
     "output_type": "stream",
     "text": [
      "Rounded values:  [ 1.  3. -0.  0.  3.]\n",
      "float64\n"
     ]
    }
   ],
   "source": [
    "import numpy as np\n",
    "\n",
    "arr = np.trunc([1.22222,3,-0.71,0.7,3.4])\n",
    "\n",
    "print(\"Rounded values: \",arr)\n",
    "\n",
    "print(arr.dtype)"
   ]
  },
  {
   "cell_type": "markdown",
   "id": "11b3f3bd",
   "metadata": {},
   "source": [
    "#### fix"
   ]
  },
  {
   "cell_type": "code",
   "execution_count": 49,
   "id": "e491136f",
   "metadata": {},
   "outputs": [
    {
     "name": "stdout",
     "output_type": "stream",
     "text": [
      "[ 1.  3. -0.  0.  3.]\n",
      "float64\n"
     ]
    }
   ],
   "source": [
    "import numpy as np\n",
    "\n",
    "arr = np.trunc([1.22222, 3, -0.71, 0.7, 3.4])\n",
    "\n",
    "print(arr)\n",
    "print(arr.dtype)"
   ]
  },
  {
   "cell_type": "markdown",
   "id": "0bcb1b31",
   "metadata": {},
   "source": [
    "#### Rounding"
   ]
  },
  {
   "cell_type": "code",
   "execution_count": 70,
   "id": "a78e0f8f",
   "metadata": {},
   "outputs": [
    {
     "name": "stdout",
     "output_type": "stream",
     "text": [
      "[ 1.2  3.  -0.7  0.7  3.4]\n",
      "\n",
      "----------------------------------------\n",
      "\n",
      "[ 1.  3. -1.  1.  3.]\n"
     ]
    }
   ],
   "source": [
    "import numpy as np\n",
    "\n",
    "arr = np.array([1.22222, 3, -0.71, 0.7, 3.4])\n",
    "\n",
    "new_arr = np.around(arr,1)\n",
    "\n",
    "print(new_arr)\n",
    "\n",
    "print(\"\\n----------------------------------------\\n\")\n",
    "\n",
    "new_arr = np.around(arr, 0)\n",
    "\n",
    "print(new_arr)"
   ]
  },
  {
   "cell_type": "markdown",
   "id": "2b51c106",
   "metadata": {},
   "source": [
    "#### floor"
   ]
  },
  {
   "cell_type": "code",
   "execution_count": 64,
   "id": "2246094a",
   "metadata": {},
   "outputs": [
    {
     "name": "stdout",
     "output_type": "stream",
     "text": [
      "[ 1.  3. -1.  0.  3.]\n"
     ]
    }
   ],
   "source": [
    "import numpy as np\n",
    "\n",
    "arr = np.floor([1.22222, 3, -0.71, 0.7, 3.4])\n",
    "\n",
    "\n",
    "print(arr)"
   ]
  },
  {
   "cell_type": "markdown",
   "id": "0fcc808d",
   "metadata": {},
   "source": [
    "#### celi"
   ]
  },
  {
   "cell_type": "code",
   "execution_count": 65,
   "id": "d23a9998",
   "metadata": {},
   "outputs": [
    {
     "name": "stdout",
     "output_type": "stream",
     "text": [
      "[ 2.  3. -0.  1.  4.]\n"
     ]
    }
   ],
   "source": [
    "import numpy as np\n",
    "\n",
    "arr = np.ceil([1.22222, 3, -0.71, 0.7, 3.4])\n",
    "\n",
    "\n",
    "print(arr)"
   ]
  },
  {
   "cell_type": "markdown",
   "id": "ae8e7993",
   "metadata": {},
   "source": [
    "## 5. NumPy Logs"
   ]
  },
  {
   "cell_type": "markdown",
   "id": "48efad92",
   "metadata": {},
   "source": [
    "#### Log at base 2"
   ]
  },
  {
   "cell_type": "code",
   "execution_count": null,
   "id": "cf28199c",
   "metadata": {},
   "outputs": [
    {
     "name": "stdout",
     "output_type": "stream",
     "text": [
      "[1 2 3 4 5 6 7 8 9]\n",
      "\n",
      "------------------------------\n",
      "\n",
      "[0.         1.         1.5849625  2.         2.32192809 2.5849625\n",
      " 2.80735492 3.         3.169925  ]\n"
     ]
    }
   ],
   "source": [
    "import numpy as np\n",
    "\n",
    "arr = np.arange(1,10)\n",
    "print(arr)\n",
    "\n",
    "print(\"\\n------------------------------\\n\")\n",
    "\n",
    "print(np.log2(arr))\n"
   ]
  },
  {
   "cell_type": "markdown",
   "id": "9712759d",
   "metadata": {},
   "source": [
    "#### Log at base 10\n"
   ]
  },
  {
   "cell_type": "code",
   "execution_count": 75,
   "id": "a7d21964",
   "metadata": {},
   "outputs": [
    {
     "name": "stdout",
     "output_type": "stream",
     "text": [
      "[1 2 3 4 5 6 7 8 9]\n",
      "\n",
      "------------------------------\n",
      "\n",
      "[0.         0.30103    0.47712125 0.60205999 0.69897    0.77815125\n",
      " 0.84509804 0.90308999 0.95424251]\n"
     ]
    }
   ],
   "source": [
    "import numpy as np\n",
    "\n",
    "arr = np.arange(1,10)\n",
    "print(arr)\n",
    "\n",
    "print(\"\\n------------------------------\\n\")\n",
    "\n",
    "print(np.log10(arr))"
   ]
  },
  {
   "cell_type": "markdown",
   "id": "e3d837d6",
   "metadata": {},
   "source": [
    "#### Natural log (base e)"
   ]
  },
  {
   "cell_type": "code",
   "execution_count": 77,
   "id": "e03f53be",
   "metadata": {},
   "outputs": [
    {
     "name": "stdout",
     "output_type": "stream",
     "text": [
      "[1 2 3 4 5 6 7 8 9]\n",
      "\n",
      "------------------------------\n",
      "\n",
      "[0.         0.69314718 1.09861229 1.38629436 1.60943791 1.79175947\n",
      " 1.94591015 2.07944154 2.19722458]\n"
     ]
    }
   ],
   "source": [
    "import numpy as np\n",
    "\n",
    "arr = np.arange(1,10)\n",
    "print(arr)\n",
    "\n",
    "print(\"\\n------------------------------\\n\")\n",
    "\n",
    "print(np.log(arr))"
   ]
  },
  {
   "cell_type": "markdown",
   "id": "80b0abf3",
   "metadata": {},
   "source": [
    "#### log at any base"
   ]
  },
  {
   "cell_type": "code",
   "execution_count": 80,
   "id": "9640864b",
   "metadata": {},
   "outputs": [
    {
     "name": "stdout",
     "output_type": "stream",
     "text": [
      "1.7005483074552052\n"
     ]
    }
   ],
   "source": [
    "from math import log\n",
    "import numpy as np\n",
    "\n",
    "nplog = np.frompyfunc(log,2,1)\n",
    "\n",
    "print(nplog(100,15))"
   ]
  },
  {
   "cell_type": "markdown",
   "id": "7a494f89",
   "metadata": {},
   "source": [
    "## 6. Summations"
   ]
  },
  {
   "cell_type": "markdown",
   "id": "6378ee58",
   "metadata": {},
   "source": [
    "#### Difference of addition and summation"
   ]
  },
  {
   "cell_type": "code",
   "execution_count": null,
   "id": "4cced38c",
   "metadata": {},
   "outputs": [
    {
     "name": "stdout",
     "output_type": "stream",
     "text": [
      "Addittion: [2 4 6]\n",
      "Summation : 12\n"
     ]
    }
   ],
   "source": [
    "\n",
    "\n",
    "import numpy as np\n",
    "\n",
    "arr1 = np.array([1,2,3])\n",
    "arr2 = np.array([1,2,3])\n",
    "\n",
    "new_arr = np.add(arr1,arr2)\n",
    "\n",
    "print(f\"Addittion: {new_arr}\")\n",
    "\n",
    "new_arr = np.sum([arr1,arr2])\n",
    "print(f\"Summation : {new_arr}\")"
   ]
  },
  {
   "cell_type": "code",
   "execution_count": 107,
   "id": "fae98e69",
   "metadata": {},
   "outputs": [
    {
     "name": "stdout",
     "output_type": "stream",
     "text": [
      "Summation:  26\n"
     ]
    }
   ],
   "source": [
    "import numpy as np\n",
    "\n",
    "arr = np.array([5,6,7,8])\n",
    "\n",
    "new_arr = np.sum(arr)\n",
    "print(\"Summation: \",new_arr)"
   ]
  },
  {
   "cell_type": "markdown",
   "id": "e6c58415",
   "metadata": {},
   "source": [
    "#### Summation over an axis"
   ]
  },
  {
   "cell_type": "code",
   "execution_count": 89,
   "id": "e68ddc5d",
   "metadata": {},
   "outputs": [
    {
     "name": "stdout",
     "output_type": "stream",
     "text": [
      "with axis = 1 : [6 8]\n",
      "With axis = 0 : [2 6 6]\n"
     ]
    }
   ],
   "source": [
    "import numpy as np\n",
    "\n",
    "arr1 = np.array([1,2,3])\n",
    "arr2 = np.array([1,4,3])\n",
    "\n",
    "new_arr = np.sum([arr1, arr2],axis=1)\n",
    "print(f\"with axis = 1 : {new_arr}\")\n",
    "\n",
    "new_arr = np.sum([arr1, arr2], axis=0)\n",
    "print(f\"With axis = 0 : {new_arr}\")"
   ]
  },
  {
   "cell_type": "markdown",
   "id": "efefa6e9",
   "metadata": {},
   "source": [
    "#### Cummulative sum"
   ]
  },
  {
   "cell_type": "code",
   "execution_count": 93,
   "id": "42460f88",
   "metadata": {},
   "outputs": [
    {
     "name": "stdout",
     "output_type": "stream",
     "text": [
      "[1 2 3 4 5 6 7 8 9]\n",
      "Cummulative sum: [ 1  3  6 10 15 21 28 36 45]\n"
     ]
    }
   ],
   "source": [
    "import numpy as np\n",
    "\n",
    "arr = np.arange(1,10)\n",
    "print(arr)\n",
    "\n",
    "new_arr = np.cumsum(arr)\n",
    "\n",
    "print(f\"Cummulative sum: {new_arr}\")"
   ]
  },
  {
   "cell_type": "markdown",
   "id": "5b125481",
   "metadata": {},
   "source": [
    "## 7. NumPy products"
   ]
  },
  {
   "cell_type": "code",
   "execution_count": 94,
   "id": "72b66bc9",
   "metadata": {},
   "outputs": [
    {
     "name": "stdout",
     "output_type": "stream",
     "text": [
      "[1 2 3 4 5 6 7 8 9]\n",
      "Product array: 362880\n"
     ]
    }
   ],
   "source": [
    "import numpy as np\n",
    "\n",
    "arr = np.arange(1,10)\n",
    "print(arr)\n",
    "\n",
    "new_arr = np.prod(arr)\n",
    "\n",
    "print(f\"Product array: {new_arr}\")"
   ]
  },
  {
   "cell_type": "markdown",
   "id": "483c11af",
   "metadata": {},
   "source": [
    "#### Product of the elment of two arrays"
   ]
  },
  {
   "cell_type": "code",
   "execution_count": 100,
   "id": "a0a117a3",
   "metadata": {},
   "outputs": [
    {
     "name": "stdout",
     "output_type": "stream",
     "text": [
      "without axis: 40320\n",
      "with axis = 0: [ 5 12 21 32]\n",
      "with axis = 1: [  24 1680]\n"
     ]
    }
   ],
   "source": [
    "import numpy as np\n",
    "\n",
    "arr1 = np.array([1,2,3,4])\n",
    "arr2 = np.array([5,6,7,8])\n",
    "\n",
    "new_arr = np.prod([arr1,arr2])\n",
    "print(f\"without axis: {new_arr}\")\n",
    "\n",
    "new_arr = np.prod([arr1, arr2], axis=0)\n",
    "print(f\"with axis = 0: {new_arr}\")\n",
    "\n",
    "new_arr = np.prod([arr1, arr2], axis=1)\n",
    "print(f\"with axis = 1: {new_arr}\")"
   ]
  },
  {
   "cell_type": "markdown",
   "id": "40208b86",
   "metadata": {},
   "source": [
    "#### Cummulative product"
   ]
  },
  {
   "cell_type": "code",
   "execution_count": 103,
   "id": "4e8772b5",
   "metadata": {},
   "outputs": [
    {
     "name": "stdout",
     "output_type": "stream",
     "text": [
      "Cumulative product:  [   5   30  210 1680]\n"
     ]
    }
   ],
   "source": [
    "import numpy as np\n",
    "\n",
    "arr = np.array([5,6,7,8])\n",
    "\n",
    "new_arr = np.cumprod(arr)\n",
    "\n",
    "print(\"Cumulative product: \",new_arr)"
   ]
  },
  {
   "cell_type": "markdown",
   "id": "d190ceb4",
   "metadata": {},
   "source": [
    "## 8. NumPy differences"
   ]
  },
  {
   "cell_type": "code",
   "execution_count": 108,
   "id": "e5574ce1",
   "metadata": {},
   "outputs": [
    {
     "name": "stdout",
     "output_type": "stream",
     "text": [
      "Difference:  [ 10  -5 -14]\n"
     ]
    }
   ],
   "source": [
    "import numpy as np\n",
    "\n",
    "arr = np.array([10,20,15,1])\n",
    "\n",
    "new_arr = np.diff(arr)\n",
    "\n",
    "print(\"Difference: \",new_arr)"
   ]
  },
  {
   "cell_type": "markdown",
   "id": "dcc2ed5a",
   "metadata": {},
   "source": [
    "#### compute difference multiple times"
   ]
  },
  {
   "cell_type": "code",
   "execution_count": null,
   "id": "eba1e600",
   "metadata": {},
   "outputs": [
    {
     "name": "stdout",
     "output_type": "stream",
     "text": [
      "Difference once: [ 10  -5 -14]\n",
      "Difference twice: [-15  -9]\n",
      "Difference thrice: [6]\n",
      "\n",
      "--------------------------------------------\n",
      "\n",
      "difference by running 2 times np.diff: [-15  -9]\n"
     ]
    }
   ],
   "source": [
    "import numpy as np\n",
    "\n",
    "arr = np.array([10, 20, 15, 1])\n",
    "\n",
    "new_arr = np.diff(arr,n=1)   #By default n=1\n",
    "print(f\"Difference once: {new_arr}\")\n",
    "\n",
    "new_arr = np.diff(arr,n=2)\n",
    "print(f\"Difference twice: {new_arr}\")\n",
    "\n",
    "new_arr = np.diff(arr,n=3)\n",
    "print(f\"Difference thrice: {new_arr}\")\n",
    "\n",
    "\n",
    "print(\"\\n--------------------------------------------\\n\")\n",
    "new_arr = np.diff(arr)\n",
    "new_arr = np.diff(new_arr)\n",
    "print(f\"difference by running 2 times np.diff(): {new_arr}\")"
   ]
  },
  {
   "cell_type": "markdown",
   "id": "4e7d0f38",
   "metadata": {},
   "source": [
    "## 9. Finding LCM"
   ]
  },
  {
   "cell_type": "code",
   "execution_count": null,
   "id": "dc6c7381",
   "metadata": {},
   "outputs": [
    {
     "name": "stdout",
     "output_type": "stream",
     "text": [
      "30\n"
     ]
    }
   ],
   "source": [
    "import numpy as np\n",
    "\n",
    "num1 = 6\n",
    "num2 = 10\n",
    "\n",
    "lcm = np.lcm(num1,num2)\n",
    "\n",
    "print(lcm)"
   ]
  },
  {
   "cell_type": "markdown",
   "id": "a8ae0dc3",
   "metadata": {},
   "source": [
    "#### lcm of an array"
   ]
  },
  {
   "cell_type": "code",
   "execution_count": 126,
   "id": "929ffbfd",
   "metadata": {},
   "outputs": [
    {
     "name": "stdout",
     "output_type": "stream",
     "text": [
      "[1 2 3 4 5 6]\n",
      "lcm:  60\n"
     ]
    }
   ],
   "source": [
    "import numpy as np\n",
    "\n",
    "arr = np.arange(1,7)\n",
    "print(arr)\n",
    "\n",
    "lcm = np.lcm.reduce(arr)\n",
    "\n",
    "print(\"lcm: \",lcm)"
   ]
  },
  {
   "cell_type": "markdown",
   "id": "cf36ed84",
   "metadata": {},
   "source": [
    "## 10. GCD"
   ]
  },
  {
   "cell_type": "code",
   "execution_count": 131,
   "id": "b19e3305",
   "metadata": {},
   "outputs": [
    {
     "name": "stdout",
     "output_type": "stream",
     "text": [
      "GCD of 10 and 5 is: 5\n"
     ]
    }
   ],
   "source": [
    "import numpy as np\n",
    "\n",
    "num1 = 10\n",
    "num2 = 5\n",
    "\n",
    "gcd = np.gcd(num1,num2)\n",
    "\n",
    "print(f\"GCD of {num1} and {num2} is: {gcd}\")"
   ]
  },
  {
   "cell_type": "markdown",
   "id": "0e7878a2",
   "metadata": {},
   "source": [
    "#### gcd in arrays"
   ]
  },
  {
   "cell_type": "code",
   "execution_count": 133,
   "id": "54615de1",
   "metadata": {},
   "outputs": [
    {
     "name": "stdout",
     "output_type": "stream",
     "text": [
      "gcd of [12 20 32] is: 4\n"
     ]
    }
   ],
   "source": [
    "import numpy as np\n",
    "\n",
    "arr = np.array([12,20,32])\n",
    "\n",
    "gcd = np.gcd.reduce(arr)\n",
    "\n",
    "print(f\"gcd of {arr} is: {gcd}\")"
   ]
  },
  {
   "cell_type": "markdown",
   "id": "8b4d5951",
   "metadata": {},
   "source": [
    "## 11. NumPy Trignometric Functions"
   ]
  },
  {
   "cell_type": "code",
   "execution_count": 135,
   "id": "b54eef7e",
   "metadata": {},
   "outputs": [
    {
     "name": "stdout",
     "output_type": "stream",
     "text": [
      "1.0\n"
     ]
    }
   ],
   "source": [
    "import numpy as np\n",
    "\n",
    "res = np.sin(np.pi/2)\n",
    "\n",
    "print(res)"
   ]
  },
  {
   "cell_type": "code",
   "execution_count": 141,
   "id": "daaa2b82",
   "metadata": {},
   "outputs": [
    {
     "name": "stdout",
     "output_type": "stream",
     "text": [
      "[1.         0.8660254  0.70710678 0.58778525]\n"
     ]
    }
   ],
   "source": [
    "import numpy as np\n",
    "\n",
    "arr = np.array([np.pi/2,np.pi/3,np.pi/4,np.pi/5])\n",
    "\n",
    "res = np.sin(arr)\n",
    "\n",
    "print(res)"
   ]
  },
  {
   "cell_type": "markdown",
   "id": "a7932c45",
   "metadata": {},
   "source": [
    "#### Convert degreee into radians"
   ]
  },
  {
   "cell_type": "code",
   "execution_count": 143,
   "id": "f34c9aa7",
   "metadata": {},
   "outputs": [
    {
     "name": "stdout",
     "output_type": "stream",
     "text": [
      "Converted value:  [1.57079633 3.14159265 4.71238898 6.28318531]\n"
     ]
    }
   ],
   "source": [
    "import numpy as np\n",
    "\n",
    "arr = np.array([90,180,270,360])\n",
    "\n",
    "res = np.deg2rad(arr)\n",
    "\n",
    "print(\"Converted value: \",res)"
   ]
  },
  {
   "cell_type": "markdown",
   "id": "8a3d6da8",
   "metadata": {},
   "source": [
    "#### Convert raidan to degree"
   ]
  },
  {
   "cell_type": "code",
   "execution_count": 144,
   "id": "a778eae5",
   "metadata": {},
   "outputs": [
    {
     "name": "stdout",
     "output_type": "stream",
     "text": [
      "[180.  90. 360.]\n"
     ]
    }
   ],
   "source": [
    "import numpy as np\n",
    "\n",
    "arr = np.array([np.pi,np.pi/2,2*np.pi])\n",
    "\n",
    "res = np.rad2deg(arr)\n",
    "\n",
    "print(res)"
   ]
  },
  {
   "cell_type": "markdown",
   "id": "aa1dcf9e",
   "metadata": {},
   "source": [
    "#### Finding angles"
   ]
  },
  {
   "cell_type": "code",
   "execution_count": 160,
   "id": "8ce3202d",
   "metadata": {},
   "outputs": [
    {
     "name": "stdout",
     "output_type": "stream",
     "text": [
      "Angle:  1.5707963267948966\n",
      "In degree:  90.0\n"
     ]
    }
   ],
   "source": [
    "import numpy as np\n",
    "\n",
    "res = np.arcsin(1.0)\n",
    "\n",
    "print(\"Angle: \",res)\n",
    "\n",
    "print(\"In degree: \",np.rad2deg(res))"
   ]
  },
  {
   "cell_type": "markdown",
   "id": "8e7e49f9",
   "metadata": {},
   "source": [
    "#### Hypotenues"
   ]
  },
  {
   "cell_type": "code",
   "execution_count": 156,
   "id": "eef5094c",
   "metadata": {},
   "outputs": [
    {
     "name": "stdout",
     "output_type": "stream",
     "text": [
      "6.4031242374328485\n"
     ]
    }
   ],
   "source": [
    "import numpy as np\n",
    "\n",
    "base = 4\n",
    "perp = 5\n",
    "\n",
    "hypot = np.hypot(base,perp)\n",
    "\n",
    "print(hypot)"
   ]
  },
  {
   "cell_type": "markdown",
   "id": "70e40765",
   "metadata": {},
   "source": [
    "## 12. Hyperbolic functions"
   ]
  },
  {
   "cell_type": "code",
   "execution_count": 157,
   "id": "8788d1c5",
   "metadata": {},
   "outputs": [
    {
     "name": "stdout",
     "output_type": "stream",
     "text": [
      "2.3012989023072947\n"
     ]
    }
   ],
   "source": [
    "import numpy as np\n",
    "\n",
    "res = np.sinh(np.pi/2)\n",
    "\n",
    "print(res)"
   ]
  },
  {
   "cell_type": "code",
   "execution_count": 158,
   "id": "7d11b954",
   "metadata": {},
   "outputs": [
    {
     "name": "stdout",
     "output_type": "stream",
     "text": [
      "[ 11.59195328   2.50917848 267.74676148]\n"
     ]
    }
   ],
   "source": [
    "import numpy as np\n",
    "\n",
    "arr = np.array([np.pi, np.pi / 2, 2 * np.pi])\n",
    "\n",
    "res = np.cosh(arr)\n",
    "\n",
    "print(res)"
   ]
  },
  {
   "cell_type": "markdown",
   "id": "b036a617",
   "metadata": {},
   "source": [
    "#### finding angle"
   ]
  },
  {
   "cell_type": "code",
   "execution_count": 161,
   "id": "ca1c44c9",
   "metadata": {},
   "outputs": [
    {
     "name": "stdout",
     "output_type": "stream",
     "text": [
      "0.09983407889920756\n"
     ]
    }
   ],
   "source": [
    "import numpy as np\n",
    "\n",
    "res = np.arcsinh(0.1)\n",
    "\n",
    "print(res)"
   ]
  },
  {
   "cell_type": "markdown",
   "id": "6cfd0581",
   "metadata": {},
   "source": [
    "#### Angle of each value in array"
   ]
  },
  {
   "cell_type": "code",
   "execution_count": 162,
   "id": "99e5af61",
   "metadata": {},
   "outputs": [
    {
     "name": "stdout",
     "output_type": "stream",
     "text": [
      "[0.10033535 0.20273255 0.54930614]\n"
     ]
    }
   ],
   "source": [
    "import numpy as np\n",
    "\n",
    "arr = np.array([0.1,0.2,0.5])\n",
    "\n",
    "res = np.arctanh(arr)\n",
    "\n",
    "print(res)"
   ]
  },
  {
   "cell_type": "markdown",
   "id": "ea612725",
   "metadata": {},
   "source": [
    "## 13. Set operations"
   ]
  },
  {
   "cell_type": "code",
   "execution_count": 164,
   "id": "61f52076",
   "metadata": {},
   "outputs": [
    {
     "name": "stdout",
     "output_type": "stream",
     "text": [
      "Set:  [1 2 3 4 5 7]\n"
     ]
    }
   ],
   "source": [
    "import numpy as np\n",
    "\n",
    "arr = np.array([1,2,1,5,5,3,4,7])\n",
    "\n",
    "res = np.unique(arr)\n",
    "\n",
    "print('Set: ',res)  #It will only contain unique elements"
   ]
  },
  {
   "cell_type": "markdown",
   "id": "4379f4ee",
   "metadata": {},
   "source": [
    "#### Union"
   ]
  },
  {
   "cell_type": "code",
   "execution_count": null,
   "id": "9bd33eaa",
   "metadata": {},
   "outputs": [
    {
     "name": "stdout",
     "output_type": "stream",
     "text": [
      "Union:  [1 2 3 4 6]\n"
     ]
    }
   ],
   "source": [
    "import numpy as np\n",
    "\n",
    "arr1 = np.array([1,2,3,4])\n",
    "arr2 = np.array([1,6,2,3,6,4])\n",
    "\n",
    "new_arr = np.union1d(arr1,arr2)\n",
    "\n",
    "print('Union: ',new_arr)"
   ]
  },
  {
   "cell_type": "markdown",
   "id": "c7b00d57",
   "metadata": {},
   "source": [
    "#### Intersection"
   ]
  },
  {
   "cell_type": "code",
   "execution_count": 166,
   "id": "533fb0cd",
   "metadata": {},
   "outputs": [
    {
     "name": "stdout",
     "output_type": "stream",
     "text": [
      "Intersection:  [1 2 3 4]\n"
     ]
    }
   ],
   "source": [
    "import numpy as np\n",
    "\n",
    "arr1 = np.array([1, 2, 3, 4])\n",
    "arr2 = np.array([1, 6, 2, 3, 6, 4])\n",
    "\n",
    "new_arr = np.intersect1d(arr1, arr2)\n",
    "\n",
    "print(\"Intersection: \", new_arr)"
   ]
  },
  {
   "cell_type": "markdown",
   "id": "389ce2f7",
   "metadata": {},
   "source": [
    "### Defference"
   ]
  },
  {
   "cell_type": "code",
   "execution_count": 172,
   "id": "1654f9bc",
   "metadata": {},
   "outputs": [
    {
     "name": "stdout",
     "output_type": "stream",
     "text": [
      "difference:  [5]\n",
      "\n",
      "-----------------------------------------\n",
      "\n",
      "difference:  [6 8]\n"
     ]
    }
   ],
   "source": [
    "import numpy as np\n",
    "\n",
    "arr1 = np.array([1, 2, 3, 4,5])\n",
    "arr2 = np.array([1, 6, 2, 3, 6, 4,8])\n",
    "\n",
    "new_arr = np.setdiff1d(arr1, arr2)\n",
    "\n",
    "print(\"difference: \", new_arr)\n",
    "\n",
    "print(\"\\n-----------------------------------------\\n\")\n",
    "\n",
    "new_arr = np.setdiff1d(arr2, arr1)\n",
    "\n",
    "print(\"difference: \", new_arr)"
   ]
  },
  {
   "cell_type": "markdown",
   "id": "dbe13560",
   "metadata": {},
   "source": [
    "#### Finding symmatric Difference"
   ]
  },
  {
   "cell_type": "code",
   "execution_count": 178,
   "id": "435b2964",
   "metadata": {},
   "outputs": [
    {
     "name": "stdout",
     "output_type": "stream",
     "text": [
      "[5 6 8]\n"
     ]
    }
   ],
   "source": [
    "import numpy as np\n",
    "\n",
    "set1 = np.array([1, 2, 3, 4, 5])\n",
    "set2 = np.array([1, 6, 2, 3, 6, 4, 8])\n",
    "\n",
    "\n",
    "new_arr = np.setxor1d(set1,set2)\n",
    "\n",
    "print(new_arr)"
   ]
  },
  {
   "cell_type": "code",
   "execution_count": 179,
   "id": "86448945",
   "metadata": {},
   "outputs": [
    {
     "name": "stdout",
     "output_type": "stream",
     "text": [
      "[5 8]\n"
     ]
    }
   ],
   "source": [
    "import numpy as np\n",
    "\n",
    "set1 = np.array([1, 2, 3, 4, 5])\n",
    "set2 = np.array([1, 6, 2, 3, 6, 4, 8])\n",
    "\n",
    "\n",
    "new_arr = np.setxor1d(set1, set2,assume_unique=True)\n",
    "\n",
    "print(new_arr)"
   ]
  },
  {
   "cell_type": "code",
   "execution_count": null,
   "id": "ee1339b2",
   "metadata": {},
   "outputs": [],
   "source": []
  }
 ],
 "metadata": {
  "kernelspec": {
   "display_name": "base",
   "language": "python",
   "name": "python3"
  },
  "language_info": {
   "codemirror_mode": {
    "name": "ipython",
    "version": 3
   },
   "file_extension": ".py",
   "mimetype": "text/x-python",
   "name": "python",
   "nbconvert_exporter": "python",
   "pygments_lexer": "ipython3",
   "version": "3.13.5"
  }
 },
 "nbformat": 4,
 "nbformat_minor": 5
}
